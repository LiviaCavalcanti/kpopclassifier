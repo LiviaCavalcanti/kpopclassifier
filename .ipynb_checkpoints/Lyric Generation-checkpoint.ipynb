{
 "cells": [
  {
   "cell_type": "code",
   "execution_count": 146,
   "metadata": {},
   "outputs": [],
   "source": [
    "import pandas as pd\n",
    "import numpy as np\n",
    "import random\n",
    "\n",
    "from collections import defaultdict, Counter\n",
    "from music21 import note, chord, converter, stream, instrument, duration\n",
    "from collections import Counter\n",
    "\n",
    "\n",
    "pd.set_option('display.max_columns', 1000)"
   ]
  },
  {
   "cell_type": "code",
   "execution_count": 147,
   "metadata": {},
   "outputs": [],
   "source": [
    "hori_dep_matrix = pd.read_csv('hori_dep_matrix_word.csv', index_col = 0)\n",
    "vert_dep_matrix = pd.read_csv('vert_dep_matrix_word.csv', index_col = 0)\n",
    "hori_dep_matrix_first_word = pd.read_csv('hori_dep_matrix_first_word.csv', index_col = 0)\n"
   ]
  },
  {
   "cell_type": "code",
   "execution_count": 150,
   "metadata": {},
   "outputs": [],
   "source": [
    "first_word_list = []\n",
    "\n",
    "first_word = random.choice(list(hori_dep_matrix_first_word.index))\n",
    "\n",
    "for i in range(10):\n",
    "    first_word_list.append(first_word)\n",
    "\n",
    "    first_word = np.random.choice(hori_dep_matrix_first_word.loc[first_word].index, p = hori_dep_matrix_first_word.loc[first_word].values)\n",
    "        "
   ]
  },
  {
   "cell_type": "code",
   "execution_count": 151,
   "metadata": {},
   "outputs": [],
   "source": [
    "# first_word_list = ['I','I','Close','Close','Fall','Fall','Living','Living']"
   ]
  },
  {
   "cell_type": "code",
   "execution_count": 152,
   "metadata": {},
   "outputs": [],
   "source": [
    "lyrics_generation = []\n",
    "\n",
    "for first_word in first_word_list:\n",
    "    lyrics_generation.append(first_word)\n",
    "    \n",
    "    next_word = np.random.choice(vert_dep_matrix.loc[first_word].index, p = vert_dep_matrix.loc[first_word].values)\n",
    "    \n",
    "    lyrics_generation.append(next_word)\n",
    "\n",
    "    for i in range(np.random.randint(4,10)):\n",
    "        \n",
    "        next_word = np.random.choice(hori_dep_matrix.loc[next_word].index, p = hori_dep_matrix.loc[next_word].values)\n",
    "        \n",
    "        lyrics_generation.append(next_word)\n",
    "        \n",
    "\n",
    "\n",
    "    "
   ]
  },
  {
   "cell_type": "code",
   "execution_count": 154,
   "metadata": {},
   "outputs": [],
   "source": [
    "lyrics =[]\n",
    "\n",
    "for i in lyrics_generation:\n",
    "    if i in first_word_list:\n",
    "        lyrics.append('. ')\n",
    "    lyrics.append(i)\n",
    "        \n",
    "lyrics = lyrics[1:]"
   ]
  },
  {
   "cell_type": "code",
   "execution_count": 155,
   "metadata": {},
   "outputs": [],
   "source": [
    "final_lyrics = ' '.join(lyrics)"
   ]
  },
  {
   "cell_type": "code",
   "execution_count": 156,
   "metadata": {},
   "outputs": [
    {
     "data": {
      "text/plain": [
       "'Enough is Im a girl That heart awayI can fall .  Such a switch when you rise until .  Yet we just let go Baby Im from harm .  Heavens cried Cause all and take a better .  Fire shining my distance so igniteTake your birthday oh Take .  Whoah .  Whoah Fade into darknessFade into darknessOh oh no less I .  100% yeah I goCause Ive drowned and these words We .  Broken arrows in StockholmAint nobody see now .  Strips me something underneath it pour as far .  Tells you yeahAnd I keep us Youre never openly'"
      ]
     },
     "execution_count": 156,
     "metadata": {},
     "output_type": "execute_result"
    }
   ],
   "source": [
    "final_lyrics"
   ]
  },
  {
   "cell_type": "code",
   "execution_count": null,
   "metadata": {},
   "outputs": [],
   "source": []
  },
  {
   "cell_type": "code",
   "execution_count": null,
   "metadata": {},
   "outputs": [],
   "source": []
  }
 ],
 "metadata": {
  "kernelspec": {
   "display_name": "Python 3",
   "language": "python",
   "name": "python3"
  },
  "language_info": {
   "codemirror_mode": {
    "name": "ipython",
    "version": 3
   },
   "file_extension": ".py",
   "mimetype": "text/x-python",
   "name": "python",
   "nbconvert_exporter": "python",
   "pygments_lexer": "ipython3",
   "version": "3.6.5"
  }
 },
 "nbformat": 4,
 "nbformat_minor": 2
}
