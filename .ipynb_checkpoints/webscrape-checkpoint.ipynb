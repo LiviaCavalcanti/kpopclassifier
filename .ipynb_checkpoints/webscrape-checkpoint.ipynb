{
 "cells": [
  {
   "cell_type": "code",
   "execution_count": 396,
   "metadata": {},
   "outputs": [
    {
     "name": "stdout",
     "output_type": "stream",
     "text": [
      "Populating the interactive namespace from numpy and matplotlib\n"
     ]
    },
    {
     "name": "stderr",
     "output_type": "stream",
     "text": [
      "/Users/Haebichan/anaconda3/lib/python3.6/site-packages/IPython/core/magics/pylab.py:160: UserWarning: pylab import has clobbered these variables: ['Rectangle', 'load']\n",
      "`%matplotlib` prevents importing * from pylab and numpy\n",
      "  \"\\n`%matplotlib` prevents importing * from pylab and numpy\"\n"
     ]
    }
   ],
   "source": [
    "from bs4 import BeautifulSoup\n",
    "import pandas as pd\n",
    "import requests\n",
    "import nltk\n",
    "from nltk.tokenize import *\n",
    "from sklearn.cluster import *\n",
    "from sklearn.model_selection import *\n",
    "from sklearn.feature_extraction.text import TfidfVectorizer\n",
    "import matplotlib.pyplot as plt\n",
    "from IPython.display import set_matplotlib_formats\n",
    "\n",
    "\n",
    "set_matplotlib_formats('retina')\n",
    "%pylab inline\n",
    "plt.style.use('ggplot')\n"
   ]
  },
  {
   "cell_type": "code",
   "execution_count": 4,
   "metadata": {
    "collapsed": true
   },
   "outputs": [],
   "source": [
    "# r = requests.get('https://www.lyricsondemand.com/k/kendricklamarlyrics/allthestarslyrics.html')\n",
    "# soup = BeautifulSoup(r.text, 'html.parser')"
   ]
  },
  {
   "cell_type": "code",
   "execution_count": 48,
   "metadata": {
    "collapsed": true
   },
   "outputs": [],
   "source": [
    "# result = soup.find('div', class_='lcontent').get_text(strip = True)"
   ]
  },
  {
   "cell_type": "code",
   "execution_count": 51,
   "metadata": {
    "scrolled": true
   },
   "outputs": [
    {
     "data": {
      "text/plain": [
       "\"[Kendrick Lamar]Love, let's talk about loveIs it anything and everything you hoped for?Or do the feeling haunt you?I know the feeling haunt you[SZA]This may be the night that my dreams might let me knowAll the stars approach you, all the stars approach you, all the stars approach youThis may be the night that my dreams might let me knowAll the stars are closer, all the stars are closer, all the stars are closer[Kendrick Lamar]Tell me what you gon' do to meConfrontation ain't nothin' new to meYou can bring a bullet, bring a sword, bring a morgueBut you can't bring the truth to meF*ck you and all your expectationsI don't even want your congratulationsI recognize your false confidenceAnd calculated promises all in your conversationI hate people that feel entitledLook at me crazy 'cause I ain't invite youOh, you important?You the moral to the story? You endorsin'?Motherf*cker, I don't even like youCorrupt a man's heart with a giftThat's how you find out who you dealin' withA small percentage who I'm buildin' withI want the credit if I'm losin' or I'm winnin'On my momma, that's the realest shit[Kendrick Lamar]Love, let's talk about loveIs it anything and everything you hoped for?Or do the feeling haunt you?I know the feeling haunt you[SZA]This may be the night that my dreams might let me knowAll the stars approach you, all the stars approach you, all the stars approach youThis may be the night that my dreams might let me knowAll the stars are closer, all the stars are closer, all the stars are closerSkin covered with egoGet to talkin' like a end-forth, like a reboundNo control, no off switchIn the way that you bringin' me downIt's a turn on, get it away from meKnow you mean wrong, keep away from meAnd it's all wrong, get it away from me, yeahI just cry for no reasonI just pray for no reasonI just thank for the life, for the dayFor the hours and another life breathin'How did it all go to feel good?You could live it all if you feel badBetter live your lifeWe were runnin' out of time[Kendrick Lamar & SZA]Love, let's talk about loveIs it anything and everything you hoped for?Or do the feeling haunt you?I know the feeling haunt you[SZA]This may be the night that my dreams might let me knowAll the stars approach you, all the stars approach you, all the stars approach youThis may be the night that my dreams might let me knowAll the stars are closer, all the stars are closer, all the stars are closer\""
      ]
     },
     "execution_count": 51,
     "metadata": {},
     "output_type": "execute_result"
    }
   ],
   "source": [
    "# result"
   ]
  },
  {
   "cell_type": "code",
   "execution_count": 180,
   "metadata": {
    "collapsed": true
   },
   "outputs": [],
   "source": [
    "k = requests.get('https://www.lyricsondemand.com/tophits/')\n",
    "soup = BeautifulSoup(k.text, 'html.parser')"
   ]
  },
  {
   "cell_type": "code",
   "execution_count": null,
   "metadata": {
    "collapsed": true
   },
   "outputs": [],
   "source": []
  },
  {
   "cell_type": "code",
   "execution_count": 181,
   "metadata": {
    "collapsed": true
   },
   "outputs": [],
   "source": [
    "links = [a['href'] for a in soup.find_all('a',href = True)]\n"
   ]
  },
  {
   "cell_type": "code",
   "execution_count": 182,
   "metadata": {
    "collapsed": true
   },
   "outputs": [],
   "source": [
    "links = [i for i in links if 'index.html' not in i]\n",
    "links = [i for i in links if i.endswith('.html')]"
   ]
  },
  {
   "cell_type": "code",
   "execution_count": 183,
   "metadata": {
    "collapsed": true
   },
   "outputs": [],
   "source": [
    "links = links[8:-7]"
   ]
  },
  {
   "cell_type": "code",
   "execution_count": 184,
   "metadata": {
    "collapsed": true
   },
   "outputs": [],
   "source": [
    "links = [i[2:] for i in links]"
   ]
  },
  {
   "cell_type": "code",
   "execution_count": 196,
   "metadata": {
    "collapsed": true
   },
   "outputs": [],
   "source": [
    "links_sample = links[-50:]"
   ]
  },
  {
   "cell_type": "code",
   "execution_count": 202,
   "metadata": {},
   "outputs": [
    {
     "data": {
      "text/plain": [
       "['/k/kendricklamarlyrics/allthestarslyrics.html',\n",
       " '/c/carterslyrics/apeshitlyrics.html',\n",
       " '/j/jcolelyrics/atmlyrics.html',\n",
       " '/p/postmalonelyrics/ballformelyrics.html',\n",
       " '/n/nickiminajlyrics/barbietingzlyrics.html',\n",
       " '/c/cardiblyrics/bartiercardilyrics.html',\n",
       " '/c/cardiblyrics/becarefullyrics.html',\n",
       " '/e/ellamailyrics/booduplyrics.html',\n",
       " '/w/weekndlyrics/calloutmynamelyrics.html',\n",
       " '/n/nickiminajlyrics/chunlilyrics.html',\n",
       " '/t/taylorswiftlyrics/delicatelyrics.html',\n",
       " '/d/drakelyrics/diplomaticimmunitylyrics.html',\n",
       " '/c/cardiblyrics/driplyrics.html',\n",
       " '/t/taylorswiftlyrics/endgamelyrics.html',\n",
       " '/l/lilpumplyrics/esskeetitlyrics.html',\n",
       " '/b/btslyrics/fakelovelyrics.html',\n",
       " '/j/justintimberlakelyrics/filthylyrics.html',\n",
       " '/b/brunomarslyrics/finesseremixlyrics.html',\n",
       " '/l/lildickylyrics/freakyfridaylyrics.html',\n",
       " '/m/marshmellolyrics/friendslyrics.html',\n",
       " '/m/maroon5lyrics/girlslikeyoulyrics.html',\n",
       " '/d/drakelyrics/godsplanlyrics.html',\n",
       " '/c/charlieputhlyrics/howlonglyrics.html',\n",
       " '/c/cardiblyrics/idolyrics.html',\n",
       " '/c/cardiblyrics/ilikeitlyrics.html',\n",
       " '/d/drakelyrics/imupsetlyrics.html',\n",
       " '/j/jcolelyrics/kevinsheartlyrics.html',\n",
       " '/j/jayrocklyrics/kingsdeadlyrics.html',\n",
       " '/j/jcolelyrics/kodlyrics.html',\n",
       " '/k/kanebrownlyrics/heavenlyrics.html',\n",
       " '/s/shawnmendeslyrics/inmybloodlyrics.html',\n",
       " '/x/xxxtentacionlyrics/jocelynfloreslyrics.html',\n",
       " '/m/maxlyrics/lightsdownlowlyrics.html',\n",
       " '/b/blocboyjblyrics/lookalivelyrics.html',\n",
       " '/j/juicewrldlyrics/luciddreamslyrics.html',\n",
       " '/z/zeddlyrics/themiddlelyrics.html',\n",
       " '/b/beberexhalyrics/meanttobelyrics.html',\n",
       " '/b/bazzilyrics/minelyrics.html',\n",
       " '/c/camilacabellolyrics/neverbethesamelyrics.html',\n",
       " '/d/drakelyrics/niceforwhatlyrics.html',\n",
       " '/a/arianagrandelyrics/notearslefttocrylyrics.html',\n",
       " '/p/postmalonelyrics/paranoidlyrics.html',\n",
       " '/j/jcolelyrics/photographlyrics.html',\n",
       " '/r/richthekidlyrics/plugwalklyrics.html',\n",
       " '/w/weekndlyrics/prayformelyrics.html',\n",
       " '/p/postmalonelyrics/psycholyrics.html',\n",
       " '/0/21savagelyrics/ricflairdriplyrics.html',\n",
       " '/x/xxxtentacionlyrics/sadlyrics.html',\n",
       " '/j/justintimberlakelyrics/saysomethinglyrics.html',\n",
       " '/p/postmalonelyrics/staylyrics.html',\n",
       " '/m/migoslyrics/stirfrylyrics.html',\n",
       " '/c/childishgambinolyrics/thisisamericalyrics.html',\n",
       " '/d/djkhaledlyrics/topofflyrics.html',\n",
       " '/m/maroon5lyrics/waitlyrics.html',\n",
       " '/m/migoslyrics/walkittalkitlyrics.html',\n",
       " '/t/travisscottlyrics/watchlyrics.html',\n",
       " '/i/imaginedragonslyrics/whateverittakeslyrics.html',\n",
       " '/l/lilbabylyrics/yesindeedlyrics.html',\n",
       " '/k/kanyewestlyrics/yikeslyrics.html',\n",
       " '/l/logiclyrics/18002738255lyrics.html',\n",
       " '/d/davidguettalyrics/2ulyrics.html',\n",
       " '/h/halseylyrics/badatlovelyrics.html',\n",
       " '/s/selenagomezlyrics/badliarlyrics.html',\n",
       " '/0/21savagelyrics/bankaccountlyrics.html',\n",
       " '/i/imaginedragonslyrics/believerlyrics.html',\n",
       " '/c/cardiblyrics/bodakyellowlyrics.html',\n",
       " '/s/samhuntlyrics/bodylikeabackroadlyrics.html',\n",
       " '/e/edsheeranlyrics/castleonthehilllyrics.html',\n",
       " '/k/katyperrylyrics/chainedtotherhythmlyrics.html',\n",
       " '/m/maroon5lyrics/coldlyrics.html',\n",
       " '/p/postmalonelyrics/congratulationslyrics.html',\n",
       " '/l/luisfonsilyrics/despacitolyrics.html',\n",
       " '/k/kendricklamarlyrics/dnalyrics.html',\n",
       " '/p/portugalthemanlyrics/feelitstilllyrics.html',\n",
       " '/c/calvinharrislyrics/feelslyrics.html',\n",
       " '/j/justinbieberlyrics/friendslyrics.html',\n",
       " '/l/lordelyrics/greenlightlyrics.html',\n",
       " '/t/taylorswiftlyrics/gorgeouslyrics.html',\n",
       " '/0/6ix9inelyrics/gummolyrics.html',\n",
       " '/l/lilpumplyrics/gucciganglyrics.html',\n",
       " '/c/camilacabellolyrics/havanalyrics.html',\n",
       " '/g/geazylyrics/himilyrics.html',\n",
       " '/k/kendricklamarlyrics/humblelyrics.html',\n",
       " '/p/postmalonelyrics/ifallapartlyrics.html',\n",
       " '/g/guccimanelyrics/igetthebaglyrics.html',\n",
       " '/d/djkhaledlyrics/imtheonelyrics.html',\n",
       " '/b/brettyounglyrics/incaseyoudidntknowlyrics.html',\n",
       " '/j/juliamichaelslyrics/issueslyrics.html',\n",
       " '/k/kygolyrics/itaintmelyrics.html',\n",
       " '/n/nflyrics/letyoudownlyrics.html',\n",
       " '/k/khalidlyrics/locationlyrics.html',\n",
       " '/t/taylorswiftlyrics/lookwhatyoumademedolyrics.html',\n",
       " '/k/kendricklamarlyrics/lovelyrics.html',\n",
       " '/m/mileycyruslyrics/malibulyrics.html',\n",
       " '/k/kendricklamarlyrics/lovelyrics.html',\n",
       " '/f/futurelyrics/maskofflyrics.html',\n",
       " '/j/jbalvinlyrics/migentelyrics.html',\n",
       " '/m/migoslyrics/motorsportlyrics.html',\n",
       " '/d/dualipalyrics/newruleslyrics.html',\n",
       " '/b/bigseanlyrics/nofavorslyrics.html',\n",
       " '/n/nickiminajlyrics/nofraudslyrics.html',\n",
       " '/g/geazylyrics/nolimitlyrics.html',\n",
       " '/h/halseylyrics/noworneverlyrics.html',\n",
       " '/c/chainsmokerslyrics/parislyrics.html',\n",
       " '/d/drakelyrics/passionfruitlyrics.html',\n",
       " '/e/edsheeranlyrics/perfectlyrics.html',\n",
       " '/d/drakelyrics/portlandlyrics.html',\n",
       " '/k/kehalyrics/prayinglyrics.html',\n",
       " '/y/yogottilyrics/rakeituplyrics.html',\n",
       " '/t/taylorswiftlyrics/readyforitlyrics.html',\n",
       " '/c/childishgambinolyrics/redbonelyrics.html',\n",
       " '/e/eminemlyrics/riverlyrics.html',\n",
       " '/p/postmalonelyrics/rockstarlyrics.html',\n",
       " '/a/ayoteolyrics/rolexlyrics.html',\n",
       " '/e/edsheeranlyrics/shapeofyoulyrics.html',\n",
       " '/h/harrystyleslyrics/signofthetimeslyrics.html',\n",
       " '/c/calvinharrislyrics/slidelyrics.html',\n",
       " '/n/niallhoranlyrics/slowhandslyrics.html',\n",
       " '/c/chainsmokerslyrics/somethingjustlikethislyrics.html',\n",
       " '/d/demilovatolyrics/sorrynotsorrylyrics.html',\n",
       " '/z/zeddlyrics/staylyrics.html',\n",
       " '/m/migoslyrics/tshirtlyrics.html',\n",
       " '/s/shawnmendeslyrics/theresnothingholdinmebacklyrics.html',\n",
       " '/j/jayzlyrics/thestoryofojlyrics.html',\n",
       " '/i/imaginedragonslyrics/thunderlyrics.html',\n",
       " '/s/samsmithlyrics/toogoodatgoodbyeslyrics.html',\n",
       " '/k/kodakblacklyrics/tunnelvisionlyrics.html',\n",
       " '/f/frenchmontanalyrics/unforgettablelyrics.html',\n",
       " '/e/eminemlyrics/walkonwaterlyrics.html',\n",
       " '/l/liluzivertlyrics/thewaylifegoeslyrics.html',\n",
       " '/p/pinklyrics/whataboutuslyrics.html',\n",
       " '/m/maroon5lyrics/whatloversdolyrics.html',\n",
       " '/s/selenagomezlyrics/wolveslyrics.html',\n",
       " '/l/liluzivertlyrics/xotourllif3lyrics.html',\n",
       " '/k/khalidlyrics/youngdumbbrokelyrics.html',\n",
       " '/l/lukasgrahamlyrics/7yearslyrics.html',\n",
       " '/f/fifthharmonylyrics/allinmyheadflexlyrics.html',\n",
       " '/j/jonbellionlyrics/alltimelowlyrics.html',\n",
       " '/c/chainsmokerslyrics/allweknowlyrics.html',\n",
       " '/m/migoslyrics/badandboujeelyrics.html',\n",
       " '/m/machinegunkellylyrics/badthingslyrics.html',\n",
       " '/r/raesremmurdlyrics/blackbeatleslyrics.html',\n",
       " '/k/keithurbanlyrics/blueaintyourcolorlyrics.html',\n",
       " '/b/bigseanlyrics/bouncebacklyrics.html',\n",
       " '/d/dramlyrics/broccolilyrics.html',\n",
       " '/d/dncelyrics/cakebytheoceanlyrics.html',\n",
       " '/j/justintimberlakelyrics/cantstopthefeelinglyrics.html',\n",
       " '/a/aminelyrics/carolinelyrics.html',\n",
       " '/s/sialyrics/cheapthrillslyrics.html',\n",
       " '/n/nickjonaslyrics/closelyrics.html',\n",
       " '/c/chainsmokerslyrics/closerlyrics.html',\n",
       " '/m/majorlazerlyrics/coldwaterlyrics.html',\n",
       " '/d/drakelyrics/controllalyrics.html',\n",
       " '/a/arianagrandelyrics/dangerouswomanlyrics.html',\n",
       " '/c/chainsmokerslyrics/dontletmedownlyrics.html',\n",
       " '/k/kentjoneslyrics/dontmindlyrics.html',\n",
       " '/m/maroon5lyrics/dontwannaknowlyrics.html',\n",
       " '/y/yogottilyrics/downinthedmlyrics.html',\n",
       " '/d/drakelyrics/fakelovelyrics.html',\n",
       " '/d/djkhaledlyrics/forfreelyrics.html',\n",
       " '/a/artistsofthennowforeverlyrics/forevercountrylyrics.html',\n",
       " '/b/beyonceknowleslyrics/formationlyrics.html',\n",
       " '/k/kiiaralyrics/goldlyrics.html',\n",
       " '/s/selenagomezlyrics/handstomyselflyrics.html',\n",
       " '/t/twentyonepilotslyrics/heathenslyrics.html',\n",
       " '/f/floridageorgialinelyrics/holylyrics.html',\n",
       " '/d/dayalyrics/hideawaylyrics.html',\n",
       " '/z/zaynlyrics/idontwannaliveforeverfiftyshadesdarkerlyrics.html',\n",
       " '/w/weekndlyrics/ifeelitcominglyrics.html',\n",
       " '/g/gnashlyrics/ihateuiloveulyrics.html',\n",
       " '/s/shawnmendeslyrics/iknowwhatyoudidlastsummerlyrics.html',\n",
       " '/m/mikeposnerlyrics/itookapillinibizalyrics.html',\n",
       " '/m/martingarrixlyrics/inthenameoflovelyrics.html',\n",
       " '/a/arianagrandelyrics/intoyoulyrics.html',\n",
       " '/z/zayhilfigerrrlyrics/jujuonthatbeattzanthemlyrics.html',\n",
       " '/p/pinklyrics/justlikefirelyrics.html',\n",
       " '/d/djsnakelyrics/letmeloveyoulyrics.html',\n",
       " '/r/ruthblyrics/lostboylyrics.html',\n",
       " '/j/johnlegendlyrics/lovemenowlyrics.html',\n",
       " '/r/rihannalyrics/loveonthebrainlyrics.html',\n",
       " '/f/futurelyrics/lowlifelyrics.html',\n",
       " '/t/torylanezlyrics/luvlyrics.html',\n",
       " '/b/britneyspearslyrics/makemelyrics.html',\n",
       " '/g/geazylyrics/memyselfilyrics.html',\n",
       " '/m/meghantrainorlyrics/metoolyrics.html',\n",
       " '/d/djsnakelyrics/middlelyrics.html',\n",
       " '/f/floridalyrics/myhouselyrics.html',\n",
       " '/c/calvinharrislyrics/mywaylyrics.html',\n",
       " '/f/flumelyrics/neverbelikeyoulyrics.html',\n",
       " '/z/zaralarssonlyrics/neverforgetyoulyrics.html',\n",
       " '/m/meghantrainorlyrics/nolyrics.html',\n",
       " '/c/charlieputhlyrics/onecallawaylyrics.html',\n",
       " '/y/youngmalyrics/ooouuulyrics.html',\n",
       " '/j/jeremihlyrics/ouilyrics.html',\n",
       " '/d/desiignerlyrics/pandalyrics.html',\n",
       " '/w/weekndlyrics/partymonsterlyrics.html',\n",
       " '/l/ladygagalyrics/perfectillusionlyrics.html',\n",
       " '/k/kellyclarksonlyrics/piecebypiecelyrics.html',\n",
       " '/z/zaynlyrics/pillowtalklyrics.html',\n",
       " '/d/drakelyrics/popstylelyrics.html',\n",
       " '/t/twentyonepilotslyrics/ridelyrics.html',\n",
       " '/k/katyperrylyrics/riselyrics.html',\n",
       " '/a/alessiacaralyrics/scarstoyourbeautifullyrics.html',\n",
       " '/a/adelelyrics/sendmylovetoyournewloverlyrics.html',\n",
       " '/a/arianagrandelyrics/sidetosidelyrics.html',\n",
       " '/b/beyonceknowleslyrics/sorrylyrics.html',\n",
       " '/w/weekndlyrics/starboylyrics.html',\n",
       " '/h/haileesteinfeldlyrics/starvinglyrics.html',\n",
       " '/l/liampaynelyrics/stripthatdownlyrics.html',\n",
       " '/l/lilwaynelyrics/suckerforpainlyrics.html',\n",
       " '/s/sialyrics/thegreatestlyrics.html',\n",
       " '/c/calvinharrislyrics/thisiswhatyoucameforlyrics.html',\n",
       " '/n/niallhoranlyrics/thistownlyrics.html',\n",
       " '/d/drakelyrics/toogoodlyrics.html',\n",
       " '/s/shawnmendeslyrics/treatyoubetterlyrics.html',\n",
       " '/x/xambassadorslyrics/unsteadylyrics.html',\n",
       " '/f/futurelyrics/usedtothislyrics.html',\n",
       " '/r/rihannalyrics/worklyrics.html',\n",
       " '/f/fifthharmonylyrics/workfromhomelyrics.html',\n",
       " '/f/fettywaplyrics/679lyrics.html',\n",
       " '/b/beyonceknowleslyrics/711lyrics.html',\n",
       " '/m/meghantrainorlyrics/allaboutthatbasslyrics.html',\n",
       " '/m/meekmilllyrics/alleyesonyoulyrics.html',\n",
       " '/l/linmanuelmirandalyrics/almostlikeprayinglyrics.html',\n",
       " '/m/maroon5lyrics/animalslyrics.html',\n",
       " '/c/chrisbrownlyrics/ayolyrics.html',\n",
       " '/d/drakelyrics/backtobacklyrics.html',\n",
       " '/t/taylorswiftlyrics/badbloodlyrics.html',\n",
       " '/j/jessiejlyrics/bangbanglyrics.html',\n",
       " '/r/rihannalyrics/bitchbetterhavemymoneylyrics.html',\n",
       " '/t/taylorswiftlyrics/blankspacelyrics.html',\n",
       " '/b/bigseanlyrics/blessingslyrics.html',\n",
       " '/g/georgeezralyrics/budapestlyrics.html',\n",
       " '/w/weekndlyrics/cantfeelmyfacelyrics.html',\n",
       " '/f/falloutboylyrics/centurieslyrics.html',\n",
       " '/n/nickjonaslyrics/chainslyrics.html',\n",
       " '/s/sialyrics/chandelierlyrics.html',\n",
       " '/o/omilyrics/cheerleaderfelixjaehnremixlyrics.html',\n",
       " '/j/jidennalyrics/classicmanlyrics.html',\n",
       " '/o/otgenasislyrics/cocolyrics.html',\n",
       " '/d/demilovatolyrics/coolforthesummerlyrics.html',\n",
       " '/m/meghantrainorlyrics/dearfuturehusbandlyrics.html',\n",
       " '/e/edsheeranlyrics/dontlyrics.html',\n",
       " '/m/macklemoreryanlewislyrics/downtownlyrics.html',\n",
       " '/o/onedirectionlyrics/dragmedownlyrics.html',\n",
       " '/w/weekndlyrics/earneditlyrics.html',\n",
       " '/n/nickyjamlyrics/elperdnlyrics.html',\n",
       " '/s/sialyrics/elasticheartlyrics.html',\n",
       " '/e/ellekinglyrics/exsohslyrics.html',\n",
       " '/r/rachelplattenlyrics/fightsonglyrics.html',\n",
       " '/r/richhomiequanlyrics/flexoohoohoohlyrics.html',\n",
       " '/r/rihannalyrics/fourfivesecondslyrics.html',\n",
       " '/f/floridalyrics/gdfrlyrics.html',\n",
       " '/e/ellahendersonlyrics/ghostlyrics.html',\n",
       " '/l/littlebigtownlyrics/girlcrushlyrics.html',\n",
       " '/s/selenagomezlyrics/goodforyoulyrics.html',\n",
       " '/t/tovelolyrics/habitsstayhighlyrics.html',\n",
       " '/k/kellyclarksonlyrics/heartbeatsonglyrics.html',\n",
       " '/a/adelelyrics/hellolyrics.html',\n",
       " '/a/alessiacaralyrics/herelyrics.html',\n",
       " '/d/davidguettalyrics/heymamalyrics.html',\n",
       " '/i/ilovememphislyrics/hitthequanlyrics.html',\n",
       " '/a/andygrammerlyrics/honeyimgoodlyrics.html',\n",
       " '/d/drakelyrics/hotlineblinglyrics.html',\n",
       " '/s/samhuntlyrics/housepartylyrics.html',\n",
       " '/c/calvinharrislyrics/howdeepisyourlovelyrics.html',\n",
       " '/b/bigseanlyrics/idontfuckwithyoulyrics.html',\n",
       " '/u/usherlyrics/idontmindlyrics.html',\n",
       " '/s/samsmithlyrics/imnottheonlyonelyrics.html',\n",
       " '/n/nickjonaslyrics/jealouslyrics.html',\n",
       " '/l/lukebryanlyrics/kickthedustuplyrics.html',\n",
       " '/s/samsmithlyrics/laymedownlyrics.html',\n",
       " '/m/majorlazerlyrics/leanonlyrics.html',\n",
       " '/m/meghantrainorlyrics/likeimgonnaloseyoulyrics.html',\n",
       " '/m/meghantrainorlyrics/lipsaremovinlyrics.html',\n",
       " '/r/rcitylyrics/lockedawaylyrics.html',\n",
       " '/a/arianagrandelyrics/lovemeharderlyrics.html',\n",
       " '/e/elliegouldinglyrics/lovemelikeyoudolyrics.html',\n",
       " '/c/charlieputhlyrics/marvingayelyrics.html',\n",
       " '/f/fettywaplyrics/mywaylyrics.html',\n",
       " '/t/twaynelyrics/nastyfreestylelyrics.html',\n",
       " '/o/onedirectionlyrics/nightchangeslyrics.html',\n",
       " '/r/raesremmurdlyrics/notypelyrics.html',\n",
       " '/a/arianagrandelyrics/onelasttimelyrics.html',\n",
       " '/n/nickiminajlyrics/onlylyrics.html',\n",
       " '/e/edsheeranlyrics/photographlyrics.html',\n",
       " '/o/omarionlyrics/posttobelyrics.html',\n",
       " '/x/xambassadorslyrics/renegadeslyrics.html',\n",
       " '/v/vancejoylyrics/riptidelyrics.html',\n",
       " '/w/wizkhalifalyrics/seeyouagainlyrics.html',\n",
       " '/t/taylorswiftlyrics/shakeitofflyrics.html',\n",
       " '/n/neyolyrics/sheknowslyrics.html',\n",
       " '/w/walkthemoonlyrics/shutupanddancelyrics.html',\n",
       " '/t/treysongzlyrics/slowmotionlyrics.html',\n",
       " '/n/natalielaroselyrics/somebodylyrics.html',\n",
       " '/s/samsmithlyrics/staywithmelyrics.html',\n",
       " '/s/shawnmendeslyrics/stitcheslyrics.html',\n",
       " '/t/taylorswiftlyrics/stylelyrics.html',\n",
       " '/m/maroon5lyrics/sugarlyrics.html',\n",
       " '/h/hozierlyrics/takemetochurchlyrics.html',\n",
       " '/s/samhuntlyrics/takeyourtimelyrics.html',\n",
       " '/t/tovelolyrics/talkingbodylyrics.html',\n",
       " '/soundtracks/h/hungergamesthelyrics/thehangingtreelyrics.html',\n",
       " '/s/selenagomezlyrics/theheartwantswhatitwantslyrics.html',\n",
       " '/w/weekndlyrics/thehillslyrics.html',\n",
       " '/e/edsheeranlyrics/thinkingoutloudlyrics.html',\n",
       " '/p/pitbulllyrics/timeofourliveslyrics.html',\n",
       " '/f/fettywaplyrics/trapqueenlyrics.html',\n",
       " '/n/nickiminajlyrics/trufflebutterlyrics.html',\n",
       " '/i/ilovemakonnenlyrics/tuesdaylyrics.html',\n",
       " '/f/falloutboylyrics/umathurmanlyrics.html',\n",
       " '/m/markronsonlyrics/uptownfunklyrics.html',\n",
       " '/j/jasonderulolyrics/wanttowantmelyrics.html',\n",
       " '/s/silentolyrics/watchmelyrics.html',\n",
       " '/m/mrprobzlyrics/waveslyrics.html',\n",
       " '/j/justinbieberlyrics/whatdoyoumeanlyrics.html',\n",
       " '/j/jackulyrics/wherearenowlyrics.html',\n",
       " '/t/taylorswiftlyrics/wildestdreamslyrics.html',\n",
       " '/f/fifthharmonylyrics/worthitlyrics.html',\n",
       " '/d/djsnakelyrics/youknowyoulikeitlyrics.html',\n",
       " '/d/drakelyrics/0to100thecatchuplyrics.html',\n",
       " '/m/mikewillmadeitlyrics/23lyrics.html',\n",
       " '/t/tinashelyrics/2onlyrics.html',\n",
       " '/c/coldplaylyrics/askyfullofstarslyrics.html',\n",
       " '/m/mileycyruslyrics/adoreyoulyrics.html',\n",
       " '/p/paramorelyrics/aintitfunlyrics.html',\n",
       " '/m/meghantrainorlyrics/allaboutthatbasslyrics.html',\n",
       " '/j/johnlegendlyrics/allofmelyrics.html',\n",
       " '/n/nicovinzlyrics/amiwronglyrics.html',\n",
       " '/k/kennychesneylyrics/americankidslyrics.html',\n",
       " '/0/5secondsofsummerlyrics/amnesialyrics.html',\n",
       " '/n/nickiminajlyrics/anacondalyrics.html',\n",
       " '/m/maroon5lyrics/animalslyrics.html',\n",
       " '/m/martingarrixlyrics/animalslyrics.html',\n",
       " '/e/enriqueiglesiaslyrics/bailandolyrics.html',\n",
       " '/j/jessiejlyrics/bangbanglyrics.html',\n",
       " '/l/ladyantebellumlyrics/bartenderlyrics.html',\n",
       " '/j/jakeowenlyrics/beachinlyrics.html',\n",
       " '/l/lilwaynelyrics/believemelyrics.html',\n",
       " '/a/americanauthorslyrics/bestdayofmylifelyrics.html',\n",
       " '/k/katyperrylyrics/birthdaylyrics.html',\n",
       " '/i/iggyazalealyrics/blackwidowlyrics.html',\n",
       " '/r/robinthickelyrics/blurredlineslyrics.html',\n",
       " '/c/charlixcxlyrics/boomclaplyrics.html',\n",
       " '/b/brantleygilbertlyrics/bottomsuplyrics.html',\n",
       " '/s/sarabareilleslyrics/bravelyrics.html',\n",
       " '/a/arianagrandelyrics/breakfreelyrics.html',\n",
       " '/e/elliegouldinglyrics/burnlyrics.html',\n",
       " '/j/jasonaldeanlyrics/burninitdownlyrics.html',\n",
       " '/s/shakiralyrics/cantremembertoforgetyoulyrics.html',\n",
       " '/s/sialyrics/chandelierlyrics.html',\n",
       " '/m/mktolyrics/classiclyrics.html',\n",
       " '/k/kongoslyrics/comewithmenowlyrics.html',\n",
       " '/e/echosmithlyrics/coolkidslyrics.html',\n",
       " '/o/onerepubliclyrics/countingstarslyrics.html',\n",
       " '/k/katyperrylyrics/darkhorselyrics.html',\n",
       " '/i/imaginedragonslyrics/demonslyrics.html',\n",
       " '/f/floridageorgialinelyrics/dirtlyrics.html',\n",
       " '/l/ladygagalyrics/dowhatuwantlyrics.html',\n",
       " '/e/edsheeranlyrics/dontlyrics.html',\n",
       " '/j/jeremihlyrics/donttellemlyrics.html',\n",
       " '/b/beyonceknowleslyrics/drunkinlovelyrics.html',\n",
       " '/d/dierksbentleylyrics/drunkonaplanelyrics.html',\n",
       " '/i/iggyazalealyrics/fancylyrics.html',\n",
       " '/t/tovelolyrics/habitsstayhighlyrics.html',\n",
       " '/p/pharrellwilliamslyrics/happylyrics.html',\n",
       " '/a/aviciilyrics/heybrotherlyrics.html',\n",
       " '/d/drakelyrics/holdonweregoinghomelyrics.html',\n",
       " '/b/bobbyshmurdalyrics/hotboylyrics.html',\n",
       " '/l/leebricelyrics/idontdancelyrics.html',\n",
       " '/n/naughtyboylyrics/lalalalyrics.html',\n",
       " '/d/disclosurelyrics/latchlyrics.html',\n",
       " '/s/samhuntlyrics/leavethenightonlyrics.html',\n",
       " '/p/passengerlyrics/lethergolyrics.html',\n",
       " '/i/idinamenzellyrics/letitgolyrics.html',\n",
       " '/r/richganglyrics/lifestylelyrics.html',\n",
       " '/m/michaeljacksonlyrics/loveneverfeltsogood2lyrics.html',\n",
       " '/o/onerepubliclyrics/loverunsoutlyrics.html',\n",
       " '/c/chrisbrownlyrics/loyallyrics.html',\n",
       " '/m/maroon5lyrics/mapslyrics.html',\n",
       " '/r/rixtonlyrics/meandmybrokenheartlyrics.html',\n",
       " '/y/yglyrics/myhittalyrics.html',\n",
       " '/t/treysongzlyrics/nanalyrics.html',\n",
       " '/c/chrisbrownlyrics/newflamelyrics.html',\n",
       " '/t/tilyrics/nomediocrelyrics.html',\n",
       " '/j/justintimberlakelyrics/notabadthinglyrics.html',\n",
       " '/b/beyonceknowleslyrics/partitionlyrics.html',\n",
       " '/l/lukebryanlyrics/playitagainlyrics.html',\n",
       " '/b/bastillelyrics/pompeiilyrics.html',\n",
       " '/a/arianagrandelyrics/problemlyrics.html',\n",
       " '/i/imaginedragonslyrics/radioactivelyrics.html',\n",
       " '/c/cleanbanditlyrics/ratherbelyrics.html',\n",
       " '/k/katyperrylyrics/roarlyrics.html',\n",
       " '/l/lordelyrics/royalslyrics.html',\n",
       " '/m/magic2lyrics/rudelyrics.html',\n",
       " '/a/agreatbigworldlyrics/saysomething2lyrics.html',\n",
       " '/t/taylorswiftlyrics/shakeitofflyrics.html',\n",
       " '/0/5secondsofsummerlyrics/shelookssoperfectlyrics.html',\n",
       " '/k/kidinklyrics/showmelyrics.html',\n",
       " '/b/beckyglyrics/showerlyrics.html',\n",
       " '/e/edsheeranlyrics/singlyrics.html',\n",
       " '/m/mirandalambertlyrics/somethinbadlyrics.html',\n",
       " '/z/zeddlyrics/staythenightlyrics.html',\n",
       " '/s/samsmithlyrics/staywithmelyrics.html',\n",
       " '/o/onedirectionlyrics/storyofmylifelyrics.html',\n",
       " '/s/schoolboyqlyrics/studiolyrics.html',\n",
       " '/c/calvinharrislyrics/summerlyrics.html',\n",
       " '/n/neighbourhoodlyrics/sweaterweatherlyrics.html',\n",
       " '/j/jasonderulolyrics/talkdirtylyrics.html',\n",
       " '/l/lordelyrics/teamlyrics.html',\n",
       " '/a/aloeblacclyrics/themanlyrics.html',\n",
       " '/e/eminemlyrics/themonsterlyrics.html',\n",
       " '/f/floridageorgialinelyrics/thisishowwerolllyrics.html',\n",
       " '/p/pitbulllyrics/timberlyrics.html',\n",
       " '/j/jasonderulolyrics/trumpetslyrics.html',\n",
       " '/d/djsnakelyrics/turndownforwhatlyrics.html',\n",
       " '/a/aviciilyrics/wakemeuplyrics.html',\n",
       " '/m/macklemoreryanlewislyrics/whitewallslyrics.html',\n",
       " '/j/jasonderulolyrics/wigglelyrics.html',\n",
       " '/m/mileycyruslyrics/wreckingballlyrics.html',\n",
       " '/t/taylorswiftlyrics/22lyrics.html',\n",
       " '/m/miguellyrics/adornlyrics.html',\n",
       " '/l/ladygagalyrics/applauselyrics.html',\n",
       " '/w/walelyrics/badlyrics.html',\n",
       " '/m/mariahcareylyrics/beautifullyrics.html',\n",
       " '/j/justinbieberlyrics/beautyandabeatlyrics.html',\n",
       " '/e/eminemlyrics/berzerklyrics.html',\n",
       " '/o/onedirectionlyrics/bestsongeverlyrics.html',\n",
       " '/r/robinthickelyrics/blurredlineslyrics.html',\n",
       " '/c/ciaralyrics/bodypartylyrics.html',\n",
       " '/b/blakesheltonlyrics/boysroundherelyrics.html',\n",
       " '/s/sarabareilleslyrics/bravelyrics.html',\n",
       " '/a/acehoodlyrics/bugattilyrics.html',\n",
       " '/m/macklemoreryanlewislyrics/cantholduslyrics.html',\n",
       " '/f/funlyrics/carryonlyrics.html',\n",
       " '/k/kellyclarksonlyrics/catchmybreathlyrics.html',\n",
       " '/z/zeddlyrics/claritylyrics.html',\n",
       " '/s/selenagomezlyrics/comegetitlyrics.html',\n",
       " '/o/onerepubliclyrics/countingstarslyrics.html',\n",
       " '/l/lukebryanlyrics/crashmypartylyrics.html',\n",
       " '/f/floridageorgialinelyrics/cruiselyrics.html',\n",
       " '/a/annakendricklyrics/cupslyrics.html',\n",
       " '/m/maroon5lyrics/daylightlyrics.html',\n",
       " '/i/imaginedragonslyrics/demonslyrics.html',\n",
       " '/r/rihannalyrics/diamondslyrics.html',\n",
       " '/k/kehalyrics/dieyounglyrics.html',\n",
       " '/s/swedishhousemafialyrics/dontyouworrychildlyrics.html',\n",
       " '/l/ladyantebellumlyrics/downtownlyrics.html',\n",
       " '/p/pitbulllyrics/feelthismomentlyrics.html',\n",
       " '/a/asaprockylyrics/fuckinproblemslyrics.html',\n",
       " '/p/psylyrics/gangnamstylelyrics.html',\n",
       " '/d/daftpunklyrics/getluckylyrics.html',\n",
       " '/f/floridageorgialinelyrics/getyourshineonlyrics.html',\n",
       " '/a/aliciakeyslyrics/girlonfirelyrics.html',\n",
       " '/p/phillipphillipslyrics/gonegonegonelyrics.html',\n",
       " '/s/scriptlyrics/halloffamelyrics.html',\n",
       " '/b/baauerlyrics/harlemshakelyrics.html',\n",
       " '/d/demilovatolyrics/heartattacklyrics.html',\n",
       " '/t/timmcgrawlyrics/highwaydontcarelyrics.html',\n",
       " '/l/lumineerslyrics/hoheylyrics.html',\n",
       " '/d/drakelyrics/holdonweregoinghomelyrics.html',\n",
       " '/j/jayzlyrics/holygraillyrics.html',\n",
       " '/p/phillipphillipslyrics/homelyrics.html',\n",
       " '/f/floridalyrics/icrylyrics.html',\n",
       " '/t/taylorswiftlyrics/iknewyouweretroublelyrics.html',\n",
       " '/i/iconapoplyrics/iloveitlyrics.html',\n",
       " '/c/calvinharrislyrics/ineedyourlovelyrics.html',\n",
       " '/h/hunterhayeslyrics/iwantcrazylyrics.html',\n",
       " '/m/mumfordsonslyrics/iwillwaitlyrics.html',\n",
       " '/0/2chainzlyrics/imdifferentlyrics.html',\n",
       " '/t/thomasrhettlyrics/itgoeslikethislyrics.html',\n",
       " '/i/imaginedragonslyrics/itstimelyrics.html',\n",
       " '/p/pinklyrics/justgivemeareasonlyrics.html',\n",
       " '/p/passengerlyrics/lethergolyrics.html',\n",
       " '/n/neyolyrics/letmeloveyouuntilyoulearntoloveyourselflyrics.html',\n",
       " '/o/ofmonstersandmenlyrics/littletalkslyrics.html',\n",
       " '/b/brunomarslyrics/lockedoutofheavenlyrics.html',\n",
       " '/l/lilwaynelyrics/lovemelyrics.html',\n",
       " '/m/maroon5lyrics/lovesomebodylyrics.html',\n",
       " '/m/mirandalambertlyrics/mamasbrokenheartlyrics.html',\n",
       " '/j/justintimberlakelyrics/mirrorslyrics.html',\n",
       " '/f/falloutboylyrics/mysongsknowwhatyoudidinthedarklightemuplyrics.html',\n",
       " '/e/emelisandelyrics/nexttomelyrics.html',\n",
       " '/m/maroon5lyrics/onemorenightlyrics.html',\n",
       " '/r/rihannalyrics/pourituplyrics.html',\n",
       " '/j/jcolelyrics/powertriplyrics.html',\n",
       " '/i/imaginedragonslyrics/radioactivelyrics.html',\n",
       " '/k/katyperrylyrics/roarlyrics.html',\n",
       " '/l/lordelyrics/royalslyrics.html',\n",
       " '/r/randyhouserlyrics/runninouttamoonlightlyrics.html',\n",
       " '/c/capitalcitieslyrics/safeandsoundlyrics.html',\n",
       " '/a/awolnationlyrics/saillyrics.html',\n",
       " '/m/macklemoreryanlewislyrics/samelovelyrics.html',\n",
       " '/w/williamlyrics/screamshoutlyrics.html',\n",
       " '/f/funlyrics/somenightslyrics.html',\n",
       " '/d/drakelyrics/startedfromthebottomlyrics.html',\n",
       " '/r/rihannalyrics/staylyrics.html',\n",
       " '/p/paramorelyrics/stillintoyoulyrics.html',\n",
       " '/j/justintimberlakelyrics/suittielyrics.html',\n",
       " '/l/lanadelreylyrics/summertimesadnesslyrics.html',\n",
       " '/b/blakesheltonlyrics/surebecoolifyoudidlyrics.html',\n",
       " '/c/calvinharrislyrics/sweetnothinglyrics.html',\n",
       " '/k/kendricklamarlyrics/swimmingpoolsdranklyrics.html',\n",
       " '/l/lukebryanlyrics/thatsmykindofnightlyrics.html',\n",
       " '/w/williamlyrics/thatpowerlyrics.html',\n",
       " '/e/edsheeranlyrics/theateamlyrics.html',\n",
       " '/y/ylvislyrics/thefoxlyrics.html',\n",
       " '/j/jasonderulolyrics/theothersidelyrics.html',\n",
       " '/a/arianagrandelyrics/thewaylyrics.html',\n",
       " '/m/macklemoreryanlewislyrics/thriftshoplyrics.html',\n",
       " '/b/brunomarslyrics/treasurelyrics.html',\n",
       " '/o/ollymurslyrics/troublemakerlyrics.html',\n",
       " '/p/pinklyrics/trylyrics.html',\n",
       " '/r/rockolyrics/uoenolyrics.html',\n",
       " '/d/dariusruckerlyrics/wagonwheellyrics.html',\n",
       " '/a/aviciilyrics/wakemeuplyrics.html',\n",
       " '/h/hunterhayeslyrics/wantedlyrics.html',\n",
       " '/m/mileycyruslyrics/wecantstoplyrics.html',\n",
       " '/b/brunomarslyrics/wheniwasyourmanlyrics.html',\n",
       " '/m/mileycyruslyrics/wreckingballlyrics.html',\n",
       " '/t/tpainlyrics/5oclocklyrics.html',\n",
       " '/t/trainlyrics/50waystosaygoodbyelyrics.html',\n",
       " '/c/christinaperrilyrics/athousandyearslyrics.html',\n",
       " '/m/miguellyrics/adornlyrics.html',\n",
       " '/j/justinbieberlyrics/aslongasyoulovemelyrics.html',\n",
       " '/g/gymclassheroeslyrics/assbackhomelyrics.html',\n",
       " '/p/pitbulllyrics/backintimelyrics.html',\n",
       " '/r/rihannalyrics/birthdaycakelyrics.html',\n",
       " '/p/pinklyrics/blowmeonelastkisslyrics.html',\n",
       " '/c/carrieunderwoodlyrics/blownawaylyrics.html',\n",
       " '/j/justinbieberlyrics/boyfriendlyrics.html',\n",
       " '/k/karminlyrics/brokenheartedlyrics.html',\n",
       " '/l/linkinparklyrics/burnitdownlyrics.html',\n",
       " '/c/carlyraejepsenlyrics/callmemaybelyrics.html',\n",
       " '/c/cashoutlyrics/cashinoutlyrics.html',\n",
       " '/u/usherlyrics/climaxlyrics.html',\n",
       " '/k/kennychesneylyrics/comeoverlyrics.html',\n",
       " '/b/bigseanlyrics/dancealyrics.html',\n",
       " '/r/rihannalyrics/diamondslyrics.html',\n",
       " '/k/kehalyrics/dieyounglyrics.html',\n",
       " '/j/jessiejlyrics/dominolyrics.html',\n",
       " '/c/chrisbrownlyrics/dontwakemeuplyrics.html',\n",
       " '/k/kirkobangzlyrics/drankinmycuplyrics.html',\n",
       " '/t/trainlyrics/drivebylyrics.html',\n",
       " '/l/lukebryanlyrics/drunkonyoulyrics.html',\n",
       " '/e/eliyoungbandlyrics/evenifitbreaksyourheartlyrics.html',\n",
       " '/n/neontreeslyrics/everybodytalkslyrics.html',\n",
       " '/c/calvinharrislyrics/feelsocloselyrics.html',\n",
       " '/j/jasonaldeanlyrics/flyoverstateslyrics.html',\n",
       " '/p/psylyrics/gangnamstylelyrics.html',\n",
       " '/d/demilovatolyrics/giveyourheartabreaklyrics.html',\n",
       " '/w/wantedlyrics/gladyoucamelyrics.html',\n",
       " '/f/floridalyrics/goodfeelinglyrics.html',\n",
       " '/c/carrieunderwoodlyrics/goodgirllyrics.html',\n",
       " '/o/owlcitylyrics/goodtimelyrics.html',\n",
       " '/l/leebricelyrics/hardtolovelyrics.html',\n",
       " '/t/treysongzlyrics/heartattacklyrics.html',\n",
       " '/l/lumineerslyrics/hoheylyrics.html',\n",
       " '/p/phillipphillipslyrics/homelyrics.html',\n",
       " '/l/lukebryanlyrics/idontwantthisnighttoendlyrics.html',\n",
       " '/j/jasonmrazlyrics/iwontgiveuplyrics.html',\n",
       " '/p/pitbulllyrics/internationallovelyrics.html',\n",
       " '/b/brunomarslyrics/itwillrainlyrics.html',\n",
       " '/i/imaginedragonslyrics/itstimelyrics.html',\n",
       " '/n/neyolyrics/letmeloveyouuntilyoulearntoloveyourselflyrics.html',\n",
       " '/c/calvinharrislyrics/letsgolyrics.html',\n",
       " '/e/elliegouldinglyrics/lightslyrics.html',\n",
       " '/s/selenagomezlyrics/loveyoulikealovesonglyrics.html',\n",
       " '/k/kanyewestlyrics/mercylyrics.html',\n",
       " '/m/maroon5lyrics/moveslikejaggerlyrics.html',\n",
       " '/t/throne2lyrics/niggasinparislyrics.html',\n",
       " '/0/2chainzlyrics/nolielyrics.html',\n",
       " '/g/gavindegrawlyrics/notoveryoulyrics.html',\n",
       " '/m/maroon5lyrics/onemorenightlyrics.html',\n",
       " '/c/coldplaylyrics/paradiselyrics.html',\n",
       " '/k/katyperrylyrics/partofmelyrics.html',\n",
       " '/l/lmfaolyrics/partyrockanthemlyrics.html',\n",
       " '/m/maroon5lyrics/payphonelyrics.html',\n",
       " '/l/littlebigtownlyrics/pontoonlyrics.html',\n",
       " '/n/nickiminajlyrics/poundthealarmlyrics.html',\n",
       " '/t/tygalyrics/rackcitylyrics.html',\n",
       " '/t/tobykeithlyrics/redsolocuplyrics.html',\n",
       " '/a/adelelyrics/rollinginthedeeplyrics.html',\n",
       " '/a/adelelyrics/rumourhasitlyrics.html',\n",
       " '/u/usherlyrics/screamlyrics.html',\n",
       " '/a/adelelyrics/setthefiretorainlyrics.html',\n",
       " '/l/lmfaolyrics/sexyandiknowitlyrics.html',\n",
       " '/b/boblyrics/sogoodlyrics.html',\n",
       " '/f/funlyrics/somenightslyrics.html',\n",
       " '/g/gotyelyrics/somebodythatiusedtoknowlyrics.html',\n",
       " '/a/adelelyrics/someonelikeyoulyrics.html',\n",
       " '/k/kipmoorelyrics/somethinboutatrucklyrics.html',\n",
       " '/e/ericchurchlyrics/springsteenlyrics.html',\n",
       " '/n/nickiminajlyrics/starshipslyrics.html',\n",
       " '/g/gymclassheroeslyrics/stereoheartslyrics.html',\n",
       " '/k/kellyclarksonlyrics/strongerlyrics.html',\n",
       " '/j/jasonaldeanlyrics/takealittleridelyrics.html',\n",
       " '/d/drakelyrics/takecarelyrics.html',\n",
       " '/d/drakelyrics/themottolyrics.html',\n",
       " '/k/katyperrylyrics/theonethatgotawaylyrics.html',\n",
       " '/d/davidguettalyrics/titaniumlyrics.html',\n",
       " '/a/alexclarelyrics/toocloselyrics.html',\n",
       " '/c/chrisbrownlyrics/turnupthemusiclyrics.html',\n",
       " '/d/davidguettalyrics/turningmeonlyrics.html',\n",
       " '/c/cherlloydlyrics/wantubacklyrics.html',\n",
       " '/h/hunterhayeslyrics/wantedlyrics.html',\n",
       " '/t/taylorswiftlyrics/weareneverevergettingbacktogetherlyrics.html',\n",
       " '/f/funlyrics/weareyounglyrics.html',\n",
       " '/r/rihannalyrics/wefoundlovelyrics.html',\n",
       " '/h/havanabrownlyrics/werunthenightlyrics.html',\n",
       " '/o/onedirectionlyrics/whatmakesyoubeautifullyrics.html',\n",
       " '/r/rihannalyrics/wherehaveyoubeenlyrics.html',\n",
       " '/f/floridalyrics/whistlelyrics.html',\n",
       " '/k/katyperrylyrics/wideawakelyrics.html',\n",
       " '/f/floridalyrics/wildoneslyrics.html',\n",
       " '/d/davidguettalyrics/withoutyoulyrics.html',\n",
       " '/w/wizkhalifalyrics/workhardplayhardlyrics.html',\n",
       " '/j/jcolelyrics/workoutlyrics.html',\n",
       " '/r/rihannalyrics/youdaonelyrics.html',\n",
       " '/s/snoopdoggandwizkhalifalyrics/youngwildfreelyrics.html',\n",
       " '/l/lilwaynelyrics/67lyrics.html',\n",
       " '/k/kanyewestlyrics/allofthelightslyrics.html',\n",
       " '/n/neontreeslyrics/animallyrics.html',\n",
       " '/t/thompsonsquarelyrics/areyougonnakissmeornotlyrics.html',\n",
       " '/t/taylorswiftlyrics/backtodecemberlyrics.html',\n",
       " '/n/newboyzlyrics/backseatlyrics.html',\n",
       " '/j/jakeowenlyrics/barefootbluejeannightlyrics.html',\n",
       " '/b/beyonceknowleslyrics/bestthingineverhadlyrics.html',\n",
       " '/w/wizkhalifalyrics/blackandyellowlyrics.html',\n",
       " '/k/kehalyrics/blowlyrics.html',\n",
       " '/l/ladygagalyrics/bornthiswaylyrics.html',\n",
       " '/t/treysongzlyrics/bottomsuplyrics.html',\n",
       " '/r/rihannalyrics/cheersdrinktothatlyrics.html',\n",
       " '/z/zacbrownbandlyrics/colderweatherlyrics.html',\n",
       " '/d/dirtymoneylyrics/cominghomelyrics.html',\n",
       " '/l/lukebryanlyrics/countrygirlshakeitformelyrics.html',\n",
       " '/e/eliyoungbandlyrics/crazygirllyrics.html',\n",
       " '/j/jasonaldeanlyrics/dirtroadanthemlyrics.html',\n",
       " '/u/usherlyrics/djgotusfallininlovelyrics.html',\n",
       " '/j/jasonderulolyrics/dontwannagohomelyrics.html',\n",
       " '/j/jasonaldeanlyrics/dontyouwannastaylyrics.html',\n",
       " '/j/jeremihlyrics/downonmelyrics.html',\n",
       " '/t/taiocruzlyrics/dynamitelyrics.html',\n",
       " '/k/katyperrylyrics/etlyrics.html',\n",
       " '/k/katyperrylyrics/fireworklyrics.html',\n",
       " '/s/scriptlyrics/forthefirsttimelyrics.html',\n",
       " '/c/ceelogreenlyrics/fuckyoulyrics.html',\n",
       " '/p/pinklyrics/fuckinperfectlyrics.html',\n",
       " '/p/pitbulllyrics/givemeeverythinglyrics.html',\n",
       " '/b/blakesheltonlyrics/godgavemeyoulyrics.html',\n",
       " '/o/onerepubliclyrics/goodlifelyrics.html',\n",
       " '/b/brunomarslyrics/grenadelyrics.html',\n",
       " '/d/drakelyrics/headlineslyrics.html',\n",
       " '/p/pitbulllyrics/heybabydropittothefloorlyrics.html',\n",
       " '/b/britneyspearslyrics/holditagainstmelyrics.html',\n",
       " '/b/blakesheltonlyrics/honeybeelyrics.html',\n",
       " '/l/lilwaynelyrics/howtolovelyrics.html',\n",
       " '/e/eminemlyrics/ineedadoctorlyrics.html',\n",
       " '/b/britneyspearslyrics/iwannagolyrics.html',\n",
       " '/b/bandperrylyrics/ifidieyounglyrics.html',\n",
       " '/d/djkhaledlyrics/imononelyrics.html',\n",
       " '/d/devlyrics/inthedarklyrics.html',\n",
       " '/c/christinaperrilyrics/jarofheartslyrics.html',\n",
       " '/n/nellylyrics/justadreamlyrics.html',\n",
       " '/l/ladyantebellumlyrics/justakisslyrics.html',\n",
       " '/b/blackeyedpeaslyrics/justcantgetenoughlyrics.html',\n",
       " '/b/brunomarslyrics/justthewayyouarelyrics.html',\n",
       " '/z/zacbrownbandlyrics/kneedeeplyrics.html',\n",
       " '/k/katyperrylyrics/lastfridaynighttgiflyrics.html',\n",
       " '/b/badmeetsevillyrics/lighterslyrics.html',\n",
       " '/f/fareastmovementlyrics/likeag6lyrics.html',\n",
       " '/c/chrisbrownlyrics/lookatmenowlyrics.html',\n",
       " '/n/nickiminajlyrics/moment4lifelyrics.html',\n",
       " '/u/usherlyrics/morelyrics.html',\n",
       " '/k/kellyrowlandlyrics/motivationlyrics.html',\n",
       " '/m/maroon5lyrics/moveslikejaggerlyrics.html',\n",
       " '/b/bigseanlyrics/mylastlyrics.html',\n",
       " '/w/wakaflockaflamelyrics/nohandslyrics.html',\n",
       " '/j/jenniferlopezlyrics/onthefloorlyrics.html',\n",
       " '/r/rihannalyrics/onlygirlintheworldlyrics.html',\n",
       " '/l/lmfaolyrics/partyrockanthemlyrics.html',\n",
       " '/m/mikeposnerlyrics/pleasedontgolyrics.html',\n",
       " '/k/kerihilsonlyrics/prettygirlrocklyrics.html',\n",
       " '/j/jessiejlyrics/pricetaglyrics.html',\n",
       " '/f/fosterthepeoplelyrics/pumpedupkickslyrics.html',\n",
       " '/p/pinklyrics/raiseyourglasslyrics.html',\n",
       " '/b/bradpaisleylyrics/remindmelyrics.html',\n",
       " '/f/fareastmovementlyrics/rocketeerlyrics.html',\n",
       " '/w/wizkhalifalyrics/rolluplyrics.html',\n",
       " '/a/adelelyrics/rollinginthedeeplyrics.html',\n",
       " '/r/rihannalyrics/smlyrics.html',\n",
       " '/l/lmfaolyrics/sexyandiknowitlyrics.html',\n",
       " '/c/chrisbrownlyrics/sheaintyoulyrics.html',\n",
       " '/l/lilwaynelyrics/shewilllyrics.html',\n",
       " '/a/adelelyrics/someonelikeyoulyrics.html',\n",
       " '/g/gymclassheroeslyrics/stereoheartslyrics.html',\n",
       " '/e/edwardmayavikajigulinalyrics/stereolovelyrics.html',\n",
       " '/n/nickiminajlyrics/superbasslyrics.html',\n",
       " '/m/miguellyrics/surethinglyrics.html',\n",
       " '/r/rodneyatkinslyrics/takeabackroadlyrics.html',\n",
       " '/k/katyperrylyrics/teenagedreamlyrics.html',\n",
       " '/l/ladygagalyrics/theedgeofglorylyrics.html',\n",
       " '/b/brunomarslyrics/thelazysonglyrics.html',\n",
       " '/l/lupefiascolyrics/theshowgoesonlyrics.html',\n",
       " '/b/blackeyedpeaslyrics/thetimethedirtybitlyrics.html',\n",
       " '/b/britneyspearslyrics/tilltheworldendslyrics.html',\n",
       " '/e/enriqueiglesiaslyrics/tonightimlovinyoulyrics.html',\n",
       " '/h/hotchelleraelyrics/tonighttonightlyrics.html',\n",
       " '/r/rihannalyrics/wefoundlovelyrics.html',\n",
       " '/k/kehalyrics/werwhowerlyrics.html',\n",
       " '/a/avrillavignelyrics/whatthehelllyrics.html',\n",
       " '/r/rihannalyrics/whatsmynamelyrics.html',\n",
       " '/d/davidguettalyrics/wherethemgirlsatlyrics.html',\n",
       " '/s/selenagomezlyrics/whosayslyrics.html',\n",
       " '/d/davidguettalyrics/withoutyoulyrics.html',\n",
       " '/t/tinietempahlyrics/writteninthestarslyrics.html',\n",
       " '/c/chrisbrownlyrics/yeah3xlyrics.html',\n",
       " '/l/ladygagalyrics/youandilyrics.html',\n",
       " '/k/kennychesneylyrics/youandtequilalyrics.html',\n",
       " '/c/cobrastarshiplyrics/youmakemefeellyrics.html',\n",
       " '/l/lilwaynelyrics/67lyrics.html',\n",
       " '/o/orianthilyrics/accordingtoyoulyrics.html',\n",
       " '/b/boblyrics/airplaneslyrics.html',\n",
       " '/l/ladygagalyrics/alejandrolyrics.html',\n",
       " '/d/djkhaledlyrics/allidoiswinlyrics.html',\n",
       " '/o/onerepubliclyrics/alltherightmoveslyrics.html',\n",
       " '/l/ladyantebellumlyrics/americanhoneylyrics.html',\n",
       " '/n/neontreeslyrics/animallyrics.html',\n",
       " '/j/justinbieberlyrics/babylyrics.html',\n",
       " '/l/ladygagalyrics/badromancelyrics.html',\n",
       " '/n/neyolyrics/beautifulmonsterlyrics.html',\n",
       " '/y/youngmoneylyrics/bedrocklyrics.html',\n",
       " '/t/traviemccoylyrics/billionairelyrics.html',\n",
       " '/k/kehalyrics/blahblahblahlyrics.html',\n",
       " '/t/treysongzlyrics/bottomsuplyrics.html',\n",
       " '/t/taiocruzlyrics/breakyourheartlyrics.html',\n",
       " '/s/scriptlyrics/breakevenlyrics.html',\n",
       " '/l/larouxlyrics/bulletprooflyrics.html',\n",
       " '/k/katyperrylyrics/californiagurlslyrics.html',\n",
       " '/t/timbalandlyrics/carryoutlyrics.html',\n",
       " '/f/floridalyrics/clubcanthandlemelyrics.html',\n",
       " '/m/mikeposnerlyrics/coolerthanmelyrics.html',\n",
       " '/c/chrisbrownlyrics/deuceslyrics.html',\n",
       " '/u/usherlyrics/djgotusfallininlovelyrics.html',\n",
       " '/j/jayseanlyrics/doyourememberlyrics.html',\n",
       " '/t/taiocruzlyrics/dynamitelyrics.html',\n",
       " '/s/seankingstonlyrics/eeniemeenielyrics.html',\n",
       " '/a/aliciakeyslyrics/empirestateofmindlyrics.html',\n",
       " '/d/drakelyrics/findyourlovelyrics.html',\n",
       " '/k/katyperrylyrics/fireworklyrics.html',\n",
       " '/c/ceelogreenlyrics/forgetyoulyrics.html',\n",
       " '/z/zacbrownbandlyrics/freelyrics.html',\n",
       " '/c/ceelogreenlyrics/fuckyoulyrics.html',\n",
       " '/r/rihannalyrics/hardlyrics.html',\n",
       " '/m/michaelbublelyrics/haventmetyouyetlyrics.html',\n",
       " '/u/usherlyrics/heydaddydaddyshomelyrics.html',\n",
       " '/t/trainlyrics/heysoulsisterlyrics.html',\n",
       " '/l/ludacrislyrics/howlowlyrics.html',\n",
       " '/e/enriqueiglesiaslyrics/ilikeitlyrics.html',\n",
       " '/k/kevinrudolflyrics/imadeitcashmoneyheroeslyrics.html',\n",
       " '/b/bandperrylyrics/ifidieyounglyrics.html',\n",
       " '/a/adamlambertlyrics/ifihadyoulyrics.html',\n",
       " '/b/blackeyedpeaslyrics/immabelyrics.html',\n",
       " '/s/shontellelyrics/impossiblelyrics.html',\n",
       " '/j/jasonderulolyrics/inmyheadlyrics.html',\n",
       " '/n/nellylyrics/justadreamlyrics.html',\n",
       " '/b/brunomarslyrics/justthewayyouarelyrics.html',\n",
       " '/s/sarabareilleslyrics/kingofanythinglyrics.html',\n",
       " '/d/daughtrylyrics/lifeafteryoulyrics.html',\n",
       " '/f/fareastmovementlyrics/likeag6lyrics.html',\n",
       " '/k/krisallenlyrics/livelikeweredyinglyrics.html',\n",
       " '/e/eminemlyrics/lovethewayyoulielyrics.html',\n",
       " '/j/jerrodniemannlyrics/loverloverlyrics.html',\n",
       " '/b/boblyrics/magiclyrics.html',\n",
       " '/b/blackeyedpeaslyrics/meetmehalfwaylyrics.html',\n",
       " '/t/taylorswiftlyrics/minelyrics.html',\n",
       " '/m/maroon5lyrics/miserylyrics.html',\n",
       " '/l/ludacrislyrics/mychickbadlyrics.html',\n",
       " '/0/3oh3lyrics/myfirstkisslyrics.html',\n",
       " '/s/selenagomezlyrics/naturallylyrics.html',\n",
       " '/l/ladyantebellumlyrics/needyounowlyrics.html',\n",
       " '/e/eminemlyrics/nolovelyrics.html',\n",
       " '/e/eminemlyrics/notafraidlyrics.html',\n",
       " '/b/boblyrics/nothinonyoulyrics.html',\n",
       " '/u/usherlyrics/omglyrics.html',\n",
       " '/r/rihannalyrics/onlygirlintheworldlyrics.html',\n",
       " '/d/drakelyrics/overlyrics.html',\n",
       " '/j/jaronandthelongroadtolovelyrics/prayforyoulyrics.html',\n",
       " '/p/pinklyrics/raiseyourglasslyrics.html',\n",
       " '/j/jasonderulolyrics/ridinsololyrics.html',\n",
       " '/l/lilwaynelyrics/rightaboveitlyrics.html',\n",
       " '/b/blackeyedpeaslyrics/rockthatbodylyrics.html',\n",
       " '/r/rihannalyrics/rudeboylyrics.html',\n",
       " '/t/treysongzlyrics/sayaahlyrics.html',\n",
       " '/t/timbalandlyrics/saysomethinglyrics.html',\n",
       " '/o/onerepubliclyrics/secretslyrics.html',\n",
       " '/d/davidguettalyrics/sexychicklyrics.html',\n",
       " '/v/vvbrownlyrics/sharkinthewaterlyrics.html',\n",
       " '/u/unclekrackerlyrics/smilelyrics.html',\n",
       " '/s/sugarlandlyrics/stucklikegluelyrics.html',\n",
       " '/k/kehalyrics/takeitofflyrics.html',\n",
       " '/c/caliswagdistrictlyrics/teachmehowtodougielyrics.html',\n",
       " '/k/katyperrylyrics/teenagedreamlyrics.html',\n",
       " '/l/ladygagalyrics/telephonelyrics.html',\n",
       " '/m/mirandalambertlyrics/thehousethatbuiltmelyrics.html',\n",
       " '/p/paramorelyrics/theonlyexceptionlyrics.html',\n",
       " '/u/usherlyrics/theregoesmybabylyrics.html',\n",
       " '/n/nickelbacklyrics/thisafternoonlyrics.html',\n",
       " '/n/newboyzlyrics/tiemedownlyrics.html',\n",
       " '/k/kehalyrics/tiktoklyrics.html',\n",
       " '/t/taylorswiftlyrics/todaywasafairytalelyrics.html',\n",
       " '/a/aliciakeyslyrics/trysleepingwithabrokenheartlyrics.html',\n",
       " '/b/boyslikegirlslyrics/twoisbetterthanonelyrics.html',\n",
       " '/c/carrieunderwoodlyrics/undoitlyrics.html',\n",
       " '/a/aliciakeyslyrics/unthinkableimreadylyrics.html',\n",
       " '/k/kehalyrics/werwhowerlyrics.html',\n",
       " '/a/adamlambertlyrics/whatayawantfrommelyrics.html',\n",
       " '/r/rihannalyrics/whatsmynamelyrics.html',\n",
       " '/j/jayzlyrics/youngforeverlyrics.html',\n",
       " '/n/nickiminajlyrics/yourlovelyrics.html',\n",
       " '/k/kehalyrics/yourloveismydruglyrics.html']"
      ]
     },
     "execution_count": 202,
     "metadata": {},
     "output_type": "execute_result"
    }
   ],
   "source": [
    "links"
   ]
  },
  {
   "cell_type": "code",
   "execution_count": 207,
   "metadata": {
    "collapsed": true
   },
   "outputs": [],
   "source": [
    "k = []\n",
    "for i in range(len(links)):\n",
    "    try:\n",
    "        request = requests.get('https://www.lyricsondemand.com' + links_sample[i])\n",
    "        soup = BeautifulSoup(request.text, 'html.parser')\n",
    "        results = soup.find('div', class_= 'lcontent').get_text(strip = True)\n",
    "        k.append(results)\n",
    "    except IndexError:\n",
    "        break\n"
   ]
  },
  {
   "cell_type": "code",
   "execution_count": 231,
   "metadata": {
    "collapsed": true,
    "scrolled": true
   },
   "outputs": [],
   "source": [
    "songs = pd.DataFrame(k)"
   ]
  },
  {
   "cell_type": "code",
   "execution_count": null,
   "metadata": {
    "collapsed": true
   },
   "outputs": [],
   "source": []
  },
  {
   "cell_type": "code",
   "execution_count": null,
   "metadata": {
    "collapsed": true
   },
   "outputs": [],
   "source": []
  },
  {
   "cell_type": "code",
   "execution_count": 238,
   "metadata": {
    "collapsed": true
   },
   "outputs": [],
   "source": [
    "request = requests.get('http://www.metrolyrics.com/top100-electronic.html')\n",
    "soup = BeautifulSoup(request.text, 'html.parser')\n"
   ]
  },
  {
   "cell_type": "code",
   "execution_count": 239,
   "metadata": {
    "collapsed": true
   },
   "outputs": [],
   "source": [
    "links2 = [a['href'] for a in soup.find_all('a',href = True)]"
   ]
  },
  {
   "cell_type": "code",
   "execution_count": 245,
   "metadata": {},
   "outputs": [
    {
     "data": {
      "text/plain": [
       "['http://www.metrolyrics.com/top100-electronic.html?PageSpeed=noscript',\n",
       " 'http://www.metrolyrics.com/',\n",
       " 'http://www.metrolyrics.com/top100.html',\n",
       " 'http://www.metrolyrics.com/videos.html',\n",
       " 'http://www.metrolyrics.com/news.html',\n",
       " 'http://www.metrolyrics.com/top-artists.html',\n",
       " 'https://secure.metrolyrics.com/secure/account-setting.html',\n",
       " 'http://www.metrolyrics.com/top100.html',\n",
       " 'http://www.metrolyrics.com/rolling-stone-top500.html',\n",
       " 'http://www.metrolyrics.com/add.html',\n",
       " 'http://www.metrolyrics.com/add.html',\n",
       " 'http://www.metrolyrics.com/top100.html',\n",
       " 'http://www.metrolyrics.com/top100-pop.html',\n",
       " 'http://www.metrolyrics.com/top100-rock.html',\n",
       " 'http://www.metrolyrics.com/top100-hiphop.html',\n",
       " 'http://www.metrolyrics.com/top100-metal.html',\n",
       " 'http://www.metrolyrics.com/top100-electronic.html',\n",
       " 'http://www.metrolyrics.com/top100-rb.html',\n",
       " 'http://www.metrolyrics.com/top100-jazz.html',\n",
       " 'http://www.metrolyrics.com/top100-country.html',\n",
       " 'http://www.metrolyrics.com/top100-folk.html',\n",
       " 'http://www.metrolyrics.com/top100-indie.html',\n",
       " 'http://www.metrolyrics.com/everybodys-free-to-wear-sunscreen-lyrics-baz-luhrmann.html',\n",
       " 'http://www.metrolyrics.com/everybodys-free-to-wear-sunscreen-lyrics-baz-luhrmann.html',\n",
       " 'http://www.metrolyrics.com/baz-luhrmann-lyrics.html',\n",
       " 'http://www.metrolyrics.com/udd-gaye-bacardi-house-party-sessions-lyrics-ritviz.html',\n",
       " 'http://www.metrolyrics.com/udd-gaye-bacardi-house-party-sessions-lyrics-ritviz.html',\n",
       " 'http://www.metrolyrics.com/ritviz-lyrics.html',\n",
       " 'http://www.metrolyrics.com/friends-lyrics-marshmello.html',\n",
       " 'http://www.metrolyrics.com/friends-lyrics-marshmello.html',\n",
       " 'http://www.metrolyrics.com/marshmello-lyrics.html',\n",
       " 'http://www.metrolyrics.com/solo-lyrics-clean-bandit.html',\n",
       " 'http://www.metrolyrics.com/solo-lyrics-clean-bandit.html',\n",
       " 'http://www.metrolyrics.com/clean-bandit-lyrics.html',\n",
       " 'http://www.metrolyrics.com/faded-lyrics-alan-walker.html',\n",
       " 'http://www.metrolyrics.com/faded-lyrics-alan-walker.html',\n",
       " 'http://www.metrolyrics.com/alan-walker-lyrics.html',\n",
       " 'http://www.metrolyrics.com/ignite-lyrics-alan-walker.html',\n",
       " 'http://www.metrolyrics.com/ignite-lyrics-alan-walker.html',\n",
       " 'http://www.metrolyrics.com/alan-walker-lyrics.html',\n",
       " 'http://www.metrolyrics.com/paintra-from-mukkabaaz-lyrics-nucleya.html',\n",
       " 'http://www.metrolyrics.com/paintra-from-mukkabaaz-lyrics-nucleya.html',\n",
       " 'http://www.metrolyrics.com/nucleya-lyrics.html',\n",
       " 'http://www.metrolyrics.com/titanium-lyrics-david-guetta.html',\n",
       " 'http://www.metrolyrics.com/titanium-lyrics-david-guetta.html',\n",
       " 'http://www.metrolyrics.com/david-guetta-lyrics.html',\n",
       " 'http://www.metrolyrics.com/smile-lyrics-charlie-chaplin.html',\n",
       " 'http://www.metrolyrics.com/smile-lyrics-charlie-chaplin.html',\n",
       " 'http://www.metrolyrics.com/charlie-chaplin-lyrics.html',\n",
       " 'http://www.metrolyrics.com/great-spirit-lyrics-armin-van-buuren.html',\n",
       " 'http://www.metrolyrics.com/great-spirit-lyrics-armin-van-buuren.html',\n",
       " 'http://www.metrolyrics.com/armin-van-buuren-lyrics.html',\n",
       " 'http://www.metrolyrics.com/without-you-lyrics-avicii.html',\n",
       " 'http://www.metrolyrics.com/without-you-lyrics-avicii.html',\n",
       " 'http://www.metrolyrics.com/avicii-lyrics.html',\n",
       " 'http://www.metrolyrics.com/the-middle-lyrics-zedd.html',\n",
       " 'http://www.metrolyrics.com/the-middle-lyrics-zedd.html',\n",
       " 'http://www.metrolyrics.com/zedd-lyrics.html',\n",
       " 'http://www.metrolyrics.com/jealous-lyrics-labrinth.html',\n",
       " 'http://www.metrolyrics.com/jealous-lyrics-labrinth.html',\n",
       " 'http://www.metrolyrics.com/labrinth-lyrics.html',\n",
       " 'http://www.metrolyrics.com/alone-lyrics-alan-walker.html',\n",
       " 'http://www.metrolyrics.com/alone-lyrics-alan-walker.html',\n",
       " 'http://www.metrolyrics.com/alan-walker-lyrics.html',\n",
       " 'http://www.metrolyrics.com/rise-up-lyrics-yves-larock.html',\n",
       " 'http://www.metrolyrics.com/rise-up-lyrics-yves-larock.html',\n",
       " 'http://www.metrolyrics.com/yves-larock-lyrics.html',\n",
       " 'http://www.metrolyrics.com/bad-boys-lyrics-inner-circle.html',\n",
       " 'http://www.metrolyrics.com/bad-boys-lyrics-inner-circle.html',\n",
       " 'http://www.metrolyrics.com/inner-circle-lyrics.html',\n",
       " 'http://www.metrolyrics.com/let-me-live-lyrics-rudimental.html',\n",
       " 'http://www.metrolyrics.com/let-me-live-lyrics-rudimental.html',\n",
       " 'http://www.metrolyrics.com/rudimental-lyrics.html',\n",
       " 'http://www.metrolyrics.com/rockabye-lyrics-clean-bandit.html',\n",
       " 'http://www.metrolyrics.com/rockabye-lyrics-clean-bandit.html',\n",
       " 'http://www.metrolyrics.com/clean-bandit-lyrics.html',\n",
       " 'http://www.metrolyrics.com/the-sun-lyrics-parov-stelar.html',\n",
       " 'http://www.metrolyrics.com/the-sun-lyrics-parov-stelar.html',\n",
       " 'http://www.metrolyrics.com/parov-stelar-lyrics.html',\n",
       " 'http://www.metrolyrics.com/mill-lo-na-lyrics-guri.html',\n",
       " 'http://www.metrolyrics.com/mill-lo-na-lyrics-guri.html',\n",
       " 'http://www.metrolyrics.com/guri-lyrics.html',\n",
       " 'http://www.metrolyrics.com/i-need-your-love-lyrics-calvin-harris.html',\n",
       " 'http://www.metrolyrics.com/calvin-harris-lyrics.html',\n",
       " 'http://www.metrolyrics.com/good-times-lyrics-chic.html',\n",
       " 'http://www.metrolyrics.com/chic-lyrics.html',\n",
       " 'http://www.metrolyrics.com/lean-on-lyrics-major-lazer.html',\n",
       " 'http://www.metrolyrics.com/major-lazer-lyrics.html',\n",
       " 'http://www.metrolyrics.com/lambada-lyrics-kaoma.html',\n",
       " 'http://www.metrolyrics.com/kaoma-lyrics.html',\n",
       " 'http://www.metrolyrics.com/bailando-lyrics-paradisio.html',\n",
       " 'http://www.metrolyrics.com/paradisio-lyrics.html',\n",
       " 'http://www.metrolyrics.com/una-vaina-loca-lyrics-fuego.html',\n",
       " 'http://www.metrolyrics.com/fuego-lyrics.html',\n",
       " 'http://www.metrolyrics.com/when-i-grow-up-lyrics-dimitri-vegas-and-like-mike.html',\n",
       " 'http://www.metrolyrics.com/dimitri-vegas-and-like-mike-lyrics.html',\n",
       " 'http://www.metrolyrics.com/wake-me-up-lyrics-avicii.html',\n",
       " 'http://www.metrolyrics.com/avicii-lyrics.html',\n",
       " 'http://www.metrolyrics.com/i-just-died-in-your-arms-lyrics-komodo.html',\n",
       " 'http://www.metrolyrics.com/komodo-lyrics.html',\n",
       " 'http://www.metrolyrics.com/if-i-had-a-heart-lyrics-fever-ray.html',\n",
       " 'http://www.metrolyrics.com/fever-ray-lyrics.html',\n",
       " 'http://www.metrolyrics.com/buruk-lyrics-cem-adrian.html',\n",
       " 'http://www.metrolyrics.com/cem-adrian-lyrics.html',\n",
       " 'http://www.metrolyrics.com/one-of-these-things-lyrics-ernie.html',\n",
       " 'http://www.metrolyrics.com/ernie-lyrics.html',\n",
       " 'http://www.metrolyrics.com/reality-lyrics-lost-frequencies.html',\n",
       " 'http://www.metrolyrics.com/lost-frequencies-lyrics.html',\n",
       " 'http://www.metrolyrics.com/rise-lyrics-jonas-blue.html',\n",
       " 'http://www.metrolyrics.com/jonas-blue-lyrics.html',\n",
       " 'http://www.metrolyrics.com/without-you-lyrics-david-guetta.html',\n",
       " 'http://www.metrolyrics.com/david-guetta-lyrics.html',\n",
       " 'http://www.metrolyrics.com/un-poco-loco-lyrics-anthony-gonzalez.html',\n",
       " 'http://www.metrolyrics.com/anthony-gonzalez-lyrics.html',\n",
       " 'http://www.metrolyrics.com/the-politics-the-life-lyrics-daniel-pemberton.html',\n",
       " 'http://www.metrolyrics.com/daniel-pemberton-lyrics.html',\n",
       " 'http://www.metrolyrics.com/silence-lyrics-delerium.html',\n",
       " 'http://www.metrolyrics.com/delerium-lyrics.html',\n",
       " 'http://www.metrolyrics.com/bad-boys-theme-from-cops-lyrics-inner-circle.html',\n",
       " 'http://www.metrolyrics.com/inner-circle-lyrics.html',\n",
       " 'http://www.metrolyrics.com/rockafeller-skank-lyrics-fatboy-slim.html',\n",
       " 'http://www.metrolyrics.com/fatboy-slim-lyrics.html',\n",
       " 'http://www.metrolyrics.com/missing-lyrics-everything-but-the-girl.html',\n",
       " 'http://www.metrolyrics.com/everything-but-the-girl-lyrics.html',\n",
       " 'http://www.metrolyrics.com/these-days-lyrics-rudimental.html',\n",
       " 'http://www.metrolyrics.com/rudimental-lyrics.html',\n",
       " 'http://www.metrolyrics.com/world-in-motion-lyrics-new-order.html',\n",
       " 'http://www.metrolyrics.com/new-order-lyrics.html',\n",
       " 'http://www.metrolyrics.com/faded-lost-stories-remix-lyrics-alan-walker.html',\n",
       " 'http://www.metrolyrics.com/alan-walker-lyrics.html',\n",
       " 'http://www.metrolyrics.com/consejo-de-amor-lyrics-tini.html',\n",
       " 'http://www.metrolyrics.com/tini-lyrics.html',\n",
       " 'http://www.metrolyrics.com/it-aint-me-lyrics-kygo.html',\n",
       " 'http://www.metrolyrics.com/kygo-lyrics.html',\n",
       " 'http://www.metrolyrics.com/the-happy-song-lyrics-imogen-heap.html',\n",
       " 'http://www.metrolyrics.com/imogen-heap-lyrics.html',\n",
       " 'http://www.metrolyrics.com/luka-lyrics-alika.html',\n",
       " 'http://www.metrolyrics.com/alika-lyrics.html',\n",
       " 'http://www.metrolyrics.com/menu-song-lyrics-mcdonalds.html',\n",
       " 'http://www.metrolyrics.com/mcdonalds-lyrics.html',\n",
       " 'http://www.metrolyrics.com/sunscreen-lyrics-baz-luhrmann.html',\n",
       " 'http://www.metrolyrics.com/baz-luhrmann-lyrics.html',\n",
       " 'http://www.metrolyrics.com/medhel-an-gwyns-lyrics-anne-dudley.html',\n",
       " 'http://www.metrolyrics.com/anne-dudley-lyrics.html',\n",
       " 'http://www.metrolyrics.com/so-high-lyrics-sojah.html',\n",
       " 'http://www.metrolyrics.com/sojah-lyrics.html',\n",
       " 'http://www.metrolyrics.com/to-my-love-tainy-remix-lyrics-bomba-estereo.html',\n",
       " 'http://www.metrolyrics.com/bomba-estereo-lyrics.html',\n",
       " 'http://www.metrolyrics.com/sunset-lover-lyrics-petit-biscuit.html',\n",
       " 'http://www.metrolyrics.com/petit-biscuit-lyrics.html',\n",
       " 'http://www.metrolyrics.com/1-2-3-lyrics-sofia-reyes.html',\n",
       " 'http://www.metrolyrics.com/sofia-reyes-lyrics.html',\n",
       " 'http://www.metrolyrics.com/alipin-lyrics-sham-rock.html',\n",
       " 'http://www.metrolyrics.com/sham-rock-lyrics.html',\n",
       " 'http://www.metrolyrics.com/oracle-lyrics-timmy-trumpet.html',\n",
       " 'http://www.metrolyrics.com/timmy-trumpet-lyrics.html',\n",
       " 'http://www.metrolyrics.com/19-lyrics-paul-hardcastle.html',\n",
       " 'http://www.metrolyrics.com/paul-hardcastle-lyrics.html',\n",
       " 'http://www.metrolyrics.com/the-rains-of-castamere-lyrics-game-of-thrones.html',\n",
       " 'http://www.metrolyrics.com/game-of-thrones-lyrics.html',\n",
       " 'http://www.metrolyrics.com/the-nights-lyrics-avicii.html',\n",
       " 'http://www.metrolyrics.com/avicii-lyrics.html',\n",
       " 'http://www.metrolyrics.com/free-lyrics-ultra-nate.html',\n",
       " 'http://www.metrolyrics.com/ultra-nate-lyrics.html',\n",
       " 'http://www.metrolyrics.com/the-devil-the-huntsman-lyrics-daniel-pemberton.html',\n",
       " 'http://www.metrolyrics.com/daniel-pemberton-lyrics.html',\n",
       " 'http://www.metrolyrics.com/to-my-love-lyrics-bomba-estereo.html',\n",
       " 'http://www.metrolyrics.com/bomba-estereo-lyrics.html',\n",
       " 'http://www.metrolyrics.com/heads-high-lyrics-mr-vegas.html',\n",
       " 'http://www.metrolyrics.com/mr-vegas-lyrics.html',\n",
       " 'http://www.metrolyrics.com/king-of-the-jungle-lyrics-shanguy.html',\n",
       " 'http://www.metrolyrics.com/shanguy-lyrics.html',\n",
       " 'http://www.metrolyrics.com/flower-lyrics-moby.html',\n",
       " 'http://www.metrolyrics.com/moby-lyrics.html',\n",
       " 'http://www.metrolyrics.com/stay-lyrics-zedd.html',\n",
       " 'http://www.metrolyrics.com/zedd-lyrics.html',\n",
       " 'http://www.metrolyrics.com/the-officer-lyrics-sidney-samson.html',\n",
       " 'http://www.metrolyrics.com/sidney-samson-lyrics.html',\n",
       " 'http://www.metrolyrics.com/tilted-lyrics-christine-and-the-queens.html',\n",
       " 'http://www.metrolyrics.com/christine-and-the-queens-lyrics.html',\n",
       " 'http://www.metrolyrics.com/rather-be-lyrics-clean-bandit.html',\n",
       " 'http://www.metrolyrics.com/clean-bandit-lyrics.html',\n",
       " 'http://www.metrolyrics.com/dont-you-worry-child-lyrics-swedish-house-mafia.html',\n",
       " 'http://www.metrolyrics.com/swedish-house-mafia-lyrics.html',\n",
       " 'http://www.metrolyrics.com/sorry-not-sorry-goodbye-lyrics-issey.html',\n",
       " 'http://www.metrolyrics.com/issey-lyrics.html',\n",
       " 'http://www.metrolyrics.com/these-are-the-days-lyrics-avicii.html',\n",
       " 'http://www.metrolyrics.com/avicii-lyrics.html',\n",
       " 'http://www.metrolyrics.com/if-youre-over-me-lyrics-years-years.html',\n",
       " 'http://www.metrolyrics.com/years-years-lyrics.html',\n",
       " 'http://www.metrolyrics.com/get-lucky-lyrics-daft-punk.html',\n",
       " 'http://www.metrolyrics.com/daft-punk-lyrics.html',\n",
       " 'http://www.metrolyrics.com/flames-lyrics-david-guetta.html',\n",
       " 'http://www.metrolyrics.com/david-guetta-lyrics.html',\n",
       " 'http://www.metrolyrics.com/remind-me-to-forget-lyrics-kygo.html',\n",
       " 'http://www.metrolyrics.com/kygo-lyrics.html',\n",
       " 'http://www.metrolyrics.com/feels-lyrics-calvin-harris.html',\n",
       " 'http://www.metrolyrics.com/calvin-harris-lyrics.html',\n",
       " 'http://www.metrolyrics.com/hard-time-lyrics-seinabo-sey.html',\n",
       " 'http://www.metrolyrics.com/seinabo-sey-lyrics.html',\n",
       " 'http://www.metrolyrics.com/sana-lyrics-sham-rock.html',\n",
       " 'http://www.metrolyrics.com/sham-rock-lyrics.html',\n",
       " 'http://www.metrolyrics.com/judgement-day-lyrics-stealth.html',\n",
       " 'http://www.metrolyrics.com/stealth-lyrics.html',\n",
       " 'http://www.metrolyrics.com/optum-lyrics-erdem-kinay.html',\n",
       " 'http://www.metrolyrics.com/erdem-kinay-lyrics.html',\n",
       " 'http://www.metrolyrics.com/symphony-lyrics-clean-bandit.html',\n",
       " 'http://www.metrolyrics.com/clean-bandit-lyrics.html',\n",
       " 'http://www.metrolyrics.com/i-need-a-miracle-lyrics-fragma.html',\n",
       " 'http://www.metrolyrics.com/fragma-lyrics.html',\n",
       " 'http://www.metrolyrics.com/spent-so-long-lyrics-jamie-harrison.html',\n",
       " 'http://www.metrolyrics.com/jamie-harrison-lyrics.html',\n",
       " 'http://www.metrolyrics.com/here-comes-the-hotstepper-lyrics-ini-kamoze.html',\n",
       " 'http://www.metrolyrics.com/ini-kamoze-lyrics.html',\n",
       " 'http://www.metrolyrics.com/waiting-for-love-lyrics-avicii.html',\n",
       " 'http://www.metrolyrics.com/avicii-lyrics.html',\n",
       " 'http://www.metrolyrics.com/sing-me-to-sleep-lyrics-alan-walker.html',\n",
       " 'http://www.metrolyrics.com/alan-walker-lyrics.html',\n",
       " 'http://www.metrolyrics.com/hey-brother-lyrics-avicii.html',\n",
       " 'http://www.metrolyrics.com/avicii-lyrics.html',\n",
       " 'http://www.metrolyrics.com/captain-jack-lyrics-captain-jack.html',\n",
       " 'http://www.metrolyrics.com/captain-jack-lyrics.html',\n",
       " 'http://www.metrolyrics.com/bonjour-madame-lyrics-lolita-jolie.html',\n",
       " 'http://www.metrolyrics.com/lolita-jolie-lyrics.html',\n",
       " 'http://www.metrolyrics.com/rhythm-is-a-dancer-lyrics-snap.html',\n",
       " 'http://www.metrolyrics.com/snap-lyrics.html',\n",
       " 'http://www.metrolyrics.com/word-up-lyrics-cameo.html',\n",
       " 'http://www.metrolyrics.com/cameo-lyrics.html',\n",
       " 'http://www.metrolyrics.com/insomnia-lyrics-faithless.html',\n",
       " 'http://www.metrolyrics.com/faithless-lyrics.html',\n",
       " 'http://www.metrolyrics.com/six-shooter-lyrics-coyote-kisses.html',\n",
       " 'http://www.metrolyrics.com/coyote-kisses-lyrics.html',\n",
       " 'http://www.metrolyrics.com/dessert-lyrics-dawin.html',\n",
       " 'http://www.metrolyrics.com/dawin-lyrics.html',\n",
       " 'http://www.metrolyrics.com/clarity-lyrics-zedd.html',\n",
       " 'http://www.metrolyrics.com/zedd-lyrics.html',\n",
       " 'http://www.metrolyrics.com/sad-story-out-of-luck-lyrics-merk-kremont.html',\n",
       " 'http://www.metrolyrics.com/merk-kremont-lyrics.html',\n",
       " 'http://www.metrolyrics.com/instant-crush-lyrics-daft-punk.html',\n",
       " 'http://www.metrolyrics.com/daft-punk-lyrics.html',\n",
       " 'http://www.metrolyrics.com/proud-corazon-lyrics-anthony-gonzalez.html',\n",
       " 'http://www.metrolyrics.com/anthony-gonzalez-lyrics.html',\n",
       " 'http://www.metrolyrics.com/videos.html',\n",
       " 'http://www.metrolyrics.com/mill-lo-na-guri-ml-video-8dn.html',\n",
       " 'http://www.metrolyrics.com/ignite-alan-walker-ml-video-iun.html',\n",
       " 'http://www.metrolyrics.com/passage-sunday-morning-remembers-ml-video-hkx.html',\n",
       " 'http://www.metrolyrics.com/solo-clean-bandit-ml-video-zad.html',\n",
       " 'http://www.metrolyrics.com/moby-performs-this-wild-darkness-ml-video-5jk.html',\n",
       " 'http://www.metrolyrics.com/faded-alan-walker-ml-video-wjb.html',\n",
       " 'http://www.metrolyrics.com/zedd-on-premiering-the-middle-music-video-with-maren-morris-during-grammy-awards-exclusive-ml-video-ebr.html',\n",
       " 'http://www.metrolyrics.com/news.html',\n",
       " 'http://www.metrolyrics.com/news-story-every-lyric-from-shawn-mendes-selftitled-new-album.html',\n",
       " 'http://www.metrolyrics.com/news-story-every-lyric-from-keith-urbans-new-album-graffiti-u.html',\n",
       " 'http://www.metrolyrics.com/news-story-watch-janelle-monaes-scifi-film-dirty-computer.html',\n",
       " 'http://www.metrolyrics.com/news-story-nicki-minaj-drops-new-songs-barbie-tings-and-chunli.html',\n",
       " 'http://www.metrolyrics.com/es/latm/top100.html ',\n",
       " 'http://www.metrolyrics.com/fr/eu/top100.html ',\n",
       " 'http://www.metrolyrics.com/en/sea/top100.html ']"
      ]
     },
     "execution_count": 245,
     "metadata": {},
     "output_type": "execute_result"
    }
   ],
   "source": [
    "links2"
   ]
  },
  {
   "cell_type": "code",
   "execution_count": 246,
   "metadata": {
    "collapsed": true
   },
   "outputs": [],
   "source": [
    "request = requests.get('http://www.metrolyrics.com/everybodys-free-to-wear-sunscreen-lyrics-baz-luhrmann.html')\n",
    "soup = BeautifulSoup(request.text, 'html.parser')\n"
   ]
  },
  {
   "cell_type": "code",
   "execution_count": null,
   "metadata": {
    "collapsed": true
   },
   "outputs": [],
   "source": []
  },
  {
   "cell_type": "code",
   "execution_count": 269,
   "metadata": {
    "collapsed": true
   },
   "outputs": [],
   "source": [
    "k = soup.find_all('p', class_ = 'verse')"
   ]
  },
  {
   "cell_type": "code",
   "execution_count": 272,
   "metadata": {
    "collapsed": true
   },
   "outputs": [],
   "source": [
    "l = []\n",
    "for i in links2:\n",
    "    try:\n",
    "        request = requests.get(i)\n",
    "        soup = BeautifulSoup(request.text, 'html.parser')\n",
    "        results = soup.find_all('p', class_= 'verse')\n",
    "        l.append(results)\n",
    "    except IndexError:\n",
    "        break\n"
   ]
  },
  {
   "cell_type": "code",
   "execution_count": 288,
   "metadata": {
    "collapsed": true
   },
   "outputs": [],
   "source": [
    "import numpy as np\n",
    "arr = np.array(l)"
   ]
  },
  {
   "cell_type": "code",
   "execution_count": null,
   "metadata": {
    "collapsed": true
   },
   "outputs": [],
   "source": []
  },
  {
   "cell_type": "code",
   "execution_count": 428,
   "metadata": {
    "collapsed": true
   },
   "outputs": [],
   "source": [
    "df_arr =pd.DataFrame(arr)"
   ]
  },
  {
   "cell_type": "code",
   "execution_count": 432,
   "metadata": {
    "collapsed": true
   },
   "outputs": [],
   "source": [
    "df_arr[0] = df_arr[0].apply(lambda x: ','.join(map(str, x)))"
   ]
  },
  {
   "cell_type": "code",
   "execution_count": 441,
   "metadata": {
    "collapsed": true
   },
   "outputs": [],
   "source": [
    "df_arr = df_arr.apply(lambda x: x.str.strip()).replace('', np.nan)"
   ]
  },
  {
   "cell_type": "code",
   "execution_count": 444,
   "metadata": {
    "collapsed": true
   },
   "outputs": [],
   "source": [
    "df_arr = df_arr[df_arr[0].notnull()]"
   ]
  },
  {
   "cell_type": "code",
   "execution_count": 456,
   "metadata": {
    "collapsed": true
   },
   "outputs": [],
   "source": [
    "df_arr = df_arr[df_arr.duplicated() != True]"
   ]
  },
  {
   "cell_type": "code",
   "execution_count": 517,
   "metadata": {
    "collapsed": true
   },
   "outputs": [],
   "source": [
    "df_arr2 = df_arr.copy()"
   ]
  },
  {
   "cell_type": "code",
   "execution_count": 518,
   "metadata": {
    "collapsed": true
   },
   "outputs": [],
   "source": [
    "df_arr2.reset_index(inplace = True)"
   ]
  },
  {
   "cell_type": "code",
   "execution_count": 519,
   "metadata": {
    "collapsed": true
   },
   "outputs": [],
   "source": [
    "df_arr2.drop('index', 1, inplace = True)"
   ]
  },
  {
   "cell_type": "code",
   "execution_count": 520,
   "metadata": {
    "collapsed": true
   },
   "outputs": [],
   "source": [
    "df_arr2[0] = df_arr2[0].str.replace('<p class=\"verse\">', ' ') \n",
    "df_arr2[0] = df_arr2[0].str.replace('<br/>', '')\n",
    "df_arr2[0] = df_arr2[0].str.replace('\\n', '. ')\n",
    "df_arr2[0] = df_arr2[0].str.replace('</p>', '')"
   ]
  },
  {
   "cell_type": "code",
   "execution_count": null,
   "metadata": {
    "collapsed": true
   },
   "outputs": [],
   "source": []
  },
  {
   "cell_type": "code",
   "execution_count": null,
   "metadata": {
    "collapsed": true
   },
   "outputs": [],
   "source": []
  },
  {
   "cell_type": "code",
   "execution_count": 522,
   "metadata": {
    "collapsed": true
   },
   "outputs": [],
   "source": [
    "request = requests.get('http://www.metrolyrics.com/top100-electronic.html')\n",
    "soup = BeautifulSoup(request.text, 'html.parser')\n",
    "results = soup.find_all('span', class_= 'artist')\n"
   ]
  },
  {
   "cell_type": "code",
   "execution_count": 524,
   "metadata": {},
   "outputs": [
    {
     "data": {
      "text/plain": [
       "[<span class=\"artist\">\n",
       " <a class=\"subtitle\" href=\"http://www.metrolyrics.com/baz-luhrmann-lyrics.html\" onmousedown=\"ev('Top Songs','searcha:baz-luhrmann');\" title=\"Baz Luhrmann\">\n",
       " Baz Luhrmann\t</a>\n",
       " </span>, <span class=\"artist\">\n",
       " <a class=\"subtitle\" href=\"http://www.metrolyrics.com/ritviz-lyrics.html\" onmousedown=\"ev('Top Songs','searcha:ritviz');\" title=\"Ritviz\">\n",
       " Ritviz\t</a>\n",
       " </span>, <span class=\"artist\">\n",
       " <a class=\"subtitle\" href=\"http://www.metrolyrics.com/marshmello-lyrics.html\" onmousedown=\"ev('Top Songs','searcha:marshmello');\" title=\"Marshmello\">\n",
       " Marshmello\t</a>\n",
       " </span>, <span class=\"artist\">\n",
       " <a class=\"subtitle\" href=\"http://www.metrolyrics.com/clean-bandit-lyrics.html\" onmousedown=\"ev('Top Songs','searcha:clean-bandit');\" title=\"Clean Bandit\">\n",
       " Clean Bandit\t</a>\n",
       " </span>, <span class=\"artist\">\n",
       " <a class=\"subtitle\" href=\"http://www.metrolyrics.com/alan-walker-lyrics.html\" onmousedown=\"ev('Top Songs','searcha:alan-walker');\" title=\"Alan Walker\">\n",
       " Alan Walker\t</a>\n",
       " </span>, <span class=\"artist\">\n",
       " <a class=\"subtitle\" href=\"http://www.metrolyrics.com/alan-walker-lyrics.html\" onmousedown=\"ev('Top Songs','searcha:alan-walker');\" title=\"Alan Walker\">\n",
       " Alan Walker\t</a>\n",
       " </span>, <span class=\"artist\">\n",
       " <a class=\"subtitle\" href=\"http://www.metrolyrics.com/nucleya-lyrics.html\" onmousedown=\"ev('Top Songs','searcha:nucleya');\" title=\"Nucleya\">\n",
       " Nucleya\t</a>\n",
       " </span>, <span class=\"artist\">\n",
       " <a class=\"subtitle\" href=\"http://www.metrolyrics.com/david-guetta-lyrics.html\" onmousedown=\"ev('Top Songs','searcha:david-guetta');\" title=\"David Guetta\">\n",
       " David Guetta\t</a>\n",
       " </span>, <span class=\"artist\">\n",
       " <a class=\"subtitle\" href=\"http://www.metrolyrics.com/charlie-chaplin-lyrics.html\" onmousedown=\"ev('Top Songs','searcha:charlie-chaplin');\" title=\"Charlie Chaplin\">\n",
       " Charlie Chaplin\t</a>\n",
       " </span>, <span class=\"artist\">\n",
       " <a class=\"subtitle\" href=\"http://www.metrolyrics.com/armin-van-buuren-lyrics.html\" onmousedown=\"ev('Top Songs','searcha:armin-van-buuren');\" title=\"Armin van Buuren\">\n",
       " Armin van Buuren\t</a>\n",
       " </span>, <span class=\"artist\">\n",
       " <a class=\"subtitle\" href=\"http://www.metrolyrics.com/avicii-lyrics.html\" onmousedown=\"ev('Top Songs','searcha:avicii');\" title=\"Avicii\">\n",
       " Avicii\t</a>\n",
       " </span>, <span class=\"artist\">\n",
       " <a class=\"subtitle\" href=\"http://www.metrolyrics.com/zedd-lyrics.html\" onmousedown=\"ev('Top Songs','searcha:zedd');\" title=\"Zedd\">\n",
       " Zedd\t</a>\n",
       " </span>, <span class=\"artist\">\n",
       " <a class=\"subtitle\" href=\"http://www.metrolyrics.com/labrinth-lyrics.html\" onmousedown=\"ev('Top Songs','searcha:labrinth');\" title=\"Labrinth\">\n",
       " Labrinth\t</a>\n",
       " </span>, <span class=\"artist\">\n",
       " <a class=\"subtitle\" href=\"http://www.metrolyrics.com/alan-walker-lyrics.html\" onmousedown=\"ev('Top Songs','searcha:alan-walker');\" title=\"Alan Walker\">\n",
       " Alan Walker\t</a>\n",
       " </span>, <span class=\"artist\">\n",
       " <a class=\"subtitle\" href=\"http://www.metrolyrics.com/yves-larock-lyrics.html\" onmousedown=\"ev('Top Songs','searcha:yves-larock');\" title=\"Yves Larock\">\n",
       " Yves Larock\t</a>\n",
       " </span>, <span class=\"artist\">\n",
       " <a class=\"subtitle\" href=\"http://www.metrolyrics.com/inner-circle-lyrics.html\" onmousedown=\"ev('Top Songs','searcha:inner-circle');\" title=\"Inner Circle\">\n",
       " Inner Circle\t</a>\n",
       " </span>, <span class=\"artist\">\n",
       " <a class=\"subtitle\" href=\"http://www.metrolyrics.com/rudimental-lyrics.html\" onmousedown=\"ev('Top Songs','searcha:rudimental');\" title=\"Rudimental\">\n",
       " Rudimental\t</a>\n",
       " </span>, <span class=\"artist\">\n",
       " <a class=\"subtitle\" href=\"http://www.metrolyrics.com/clean-bandit-lyrics.html\" onmousedown=\"ev('Top Songs','searcha:clean-bandit');\" title=\"Clean Bandit\">\n",
       " Clean Bandit\t</a>\n",
       " </span>, <span class=\"artist\">\n",
       " <a class=\"subtitle\" href=\"http://www.metrolyrics.com/parov-stelar-lyrics.html\" onmousedown=\"ev('Top Songs','searcha:parov-stelar');\" title=\"Parov Stelar\">\n",
       " Parov Stelar\t</a>\n",
       " </span>, <span class=\"artist\">\n",
       " <a class=\"subtitle\" href=\"http://www.metrolyrics.com/guri-lyrics.html\" onmousedown=\"ev('Top Songs','searcha:guri');\" title=\"guri\">\n",
       " guri\t</a>\n",
       " </span>, <span class=\"artist\">\n",
       " <a class=\"subtitle\" href=\"http://www.metrolyrics.com/calvin-harris-lyrics.html\" onmousedown=\"ev('Top Songs','searcha:calvin-harris');\" title=\"Calvin Harris\">\n",
       " Calvin Harris\t</a>\n",
       " </span>, <span class=\"artist\">\n",
       " <a class=\"subtitle\" href=\"http://www.metrolyrics.com/chic-lyrics.html\" onmousedown=\"ev('Top Songs','searcha:chic');\" title=\"Chic\">\n",
       " Chic\t</a>\n",
       " </span>, <span class=\"artist\">\n",
       " <a class=\"subtitle\" href=\"http://www.metrolyrics.com/major-lazer-lyrics.html\" onmousedown=\"ev('Top Songs','searcha:major-lazer');\" title=\"Major Lazer\">\n",
       " Major Lazer\t</a>\n",
       " </span>, <span class=\"artist\">\n",
       " <a class=\"subtitle\" href=\"http://www.metrolyrics.com/kaoma-lyrics.html\" onmousedown=\"ev('Top Songs','searcha:kaoma');\" title=\"Kaoma\">\n",
       " Kaoma\t</a>\n",
       " </span>, <span class=\"artist\">\n",
       " <a class=\"subtitle\" href=\"http://www.metrolyrics.com/paradisio-lyrics.html\" onmousedown=\"ev('Top Songs','searcha:paradisio');\" title=\"Paradisio\">\n",
       " Paradisio\t</a>\n",
       " </span>, <span class=\"artist\">\n",
       " <a class=\"subtitle\" href=\"http://www.metrolyrics.com/fuego-lyrics.html\" onmousedown=\"ev('Top Songs','searcha:fuego');\" title=\"Fuego\">\n",
       " Fuego\t</a>\n",
       " </span>, <span class=\"artist\">\n",
       " <a class=\"subtitle\" href=\"http://www.metrolyrics.com/dimitri-vegas-and-like-mike-lyrics.html\" onmousedown=\"ev('Top Songs','searcha:dimitri-vegas-and-like-mike');\" title=\"Dimitri Vegas &amp; Like Mike\">\n",
       " Dimitri Vegas &amp; Like Mike\t</a>\n",
       " </span>, <span class=\"artist\">\n",
       " <a class=\"subtitle\" href=\"http://www.metrolyrics.com/avicii-lyrics.html\" onmousedown=\"ev('Top Songs','searcha:avicii');\" title=\"Avicii\">\n",
       " Avicii\t</a>\n",
       " </span>, <span class=\"artist\">\n",
       " <a class=\"subtitle\" href=\"http://www.metrolyrics.com/komodo-lyrics.html\" onmousedown=\"ev('Top Songs','searcha:komodo');\" title=\"Komodo\">\n",
       " Komodo\t</a>\n",
       " </span>, <span class=\"artist\">\n",
       " <a class=\"subtitle\" href=\"http://www.metrolyrics.com/fever-ray-lyrics.html\" onmousedown=\"ev('Top Songs','searcha:fever-ray');\" title=\"Fever Ray\">\n",
       " Fever Ray\t</a>\n",
       " </span>, <span class=\"artist\">\n",
       " <a class=\"subtitle\" href=\"http://www.metrolyrics.com/cem-adrian-lyrics.html\" onmousedown=\"ev('Top Songs','searcha:cem-adrian');\" title=\"Cem Adrian\">\n",
       " Cem Adrian\t</a>\n",
       " </span>, <span class=\"artist\">\n",
       " <a class=\"subtitle\" href=\"http://www.metrolyrics.com/ernie-lyrics.html\" onmousedown=\"ev('Top Songs','searcha:ernie');\" title=\"Ernie\">\n",
       " Ernie\t</a>\n",
       " </span>, <span class=\"artist\">\n",
       " <a class=\"subtitle\" href=\"http://www.metrolyrics.com/lost-frequencies-lyrics.html\" onmousedown=\"ev('Top Songs','searcha:lost-frequencies');\" title=\"Lost Frequencies\">\n",
       " Lost Frequencies\t</a>\n",
       " </span>, <span class=\"artist\">\n",
       " <a class=\"subtitle\" href=\"http://www.metrolyrics.com/jonas-blue-lyrics.html\" onmousedown=\"ev('Top Songs','searcha:jonas-blue');\" title=\"Jonas Blue\">\n",
       " Jonas Blue\t</a>\n",
       " </span>, <span class=\"artist\">\n",
       " <a class=\"subtitle\" href=\"http://www.metrolyrics.com/david-guetta-lyrics.html\" onmousedown=\"ev('Top Songs','searcha:david-guetta');\" title=\"David Guetta\">\n",
       " David Guetta\t</a>\n",
       " </span>, <span class=\"artist\">\n",
       " <a class=\"subtitle\" href=\"http://www.metrolyrics.com/anthony-gonzalez-lyrics.html\" onmousedown=\"ev('Top Songs','searcha:anthony-gonzalez');\" title=\"Anthony Gonzalez\">\n",
       " Anthony Gonzalez\t</a>\n",
       " </span>, <span class=\"artist\">\n",
       " <a class=\"subtitle\" href=\"http://www.metrolyrics.com/daniel-pemberton-lyrics.html\" onmousedown=\"ev('Top Songs','searcha:daniel-pemberton');\" title=\"Daniel Pemberton\">\n",
       " Daniel Pemberton\t</a>\n",
       " </span>, <span class=\"artist\">\n",
       " <a class=\"subtitle\" href=\"http://www.metrolyrics.com/delerium-lyrics.html\" onmousedown=\"ev('Top Songs','searcha:delerium');\" title=\"Delerium\">\n",
       " Delerium\t</a>\n",
       " </span>, <span class=\"artist\">\n",
       " <a class=\"subtitle\" href=\"http://www.metrolyrics.com/inner-circle-lyrics.html\" onmousedown=\"ev('Top Songs','searcha:inner-circle');\" title=\"Inner Circle\">\n",
       " Inner Circle\t</a>\n",
       " </span>, <span class=\"artist\">\n",
       " <a class=\"subtitle\" href=\"http://www.metrolyrics.com/fatboy-slim-lyrics.html\" onmousedown=\"ev('Top Songs','searcha:fatboy-slim');\" title=\"Fatboy Slim\">\n",
       " Fatboy Slim\t</a>\n",
       " </span>, <span class=\"artist\">\n",
       " <a class=\"subtitle\" href=\"http://www.metrolyrics.com/everything-but-the-girl-lyrics.html\" onmousedown=\"ev('Top Songs','searcha:everything-but-the-girl');\" title=\"Everything But The Girl\">\n",
       " Everything But The Girl\t</a>\n",
       " </span>, <span class=\"artist\">\n",
       " <a class=\"subtitle\" href=\"http://www.metrolyrics.com/rudimental-lyrics.html\" onmousedown=\"ev('Top Songs','searcha:rudimental');\" title=\"Rudimental\">\n",
       " Rudimental\t</a>\n",
       " </span>, <span class=\"artist\">\n",
       " <a class=\"subtitle\" href=\"http://www.metrolyrics.com/new-order-lyrics.html\" onmousedown=\"ev('Top Songs','searcha:new-order');\" title=\"New Order\">\n",
       " New Order\t</a>\n",
       " </span>, <span class=\"artist\">\n",
       " <a class=\"subtitle\" href=\"http://www.metrolyrics.com/alan-walker-lyrics.html\" onmousedown=\"ev('Top Songs','searcha:alan-walker');\" title=\"Alan Walker\">\n",
       " Alan Walker\t</a>\n",
       " </span>, <span class=\"artist\">\n",
       " <a class=\"subtitle\" href=\"http://www.metrolyrics.com/tini-lyrics.html\" onmousedown=\"ev('Top Songs','searcha:tini');\" title=\"TINI\">\n",
       " TINI\t</a>\n",
       " </span>, <span class=\"artist\">\n",
       " <a class=\"subtitle\" href=\"http://www.metrolyrics.com/kygo-lyrics.html\" onmousedown=\"ev('Top Songs','searcha:kygo');\" title=\"Kygo\">\n",
       " Kygo\t</a>\n",
       " </span>, <span class=\"artist\">\n",
       " <a class=\"subtitle\" href=\"http://www.metrolyrics.com/imogen-heap-lyrics.html\" onmousedown=\"ev('Top Songs','searcha:imogen-heap');\" title=\"Imogen Heap\">\n",
       " Imogen Heap\t</a>\n",
       " </span>, <span class=\"artist\">\n",
       " <a class=\"subtitle\" href=\"http://www.metrolyrics.com/alika-lyrics.html\" onmousedown=\"ev('Top Songs','searcha:alika');\" title=\"Alika\">\n",
       " Alika\t</a>\n",
       " </span>, <span class=\"artist\">\n",
       " <a class=\"subtitle\" href=\"http://www.metrolyrics.com/mcdonalds-lyrics.html\" onmousedown=\"ev('Top Songs','searcha:mcdonalds');\" title=\"McDonald's\">\n",
       " McDonald's\t</a>\n",
       " </span>, <span class=\"artist\">\n",
       " <a class=\"subtitle\" href=\"http://www.metrolyrics.com/baz-luhrmann-lyrics.html\" onmousedown=\"ev('Top Songs','searcha:baz-luhrmann');\" title=\"Baz Luhrmann\">\n",
       " Baz Luhrmann\t</a>\n",
       " </span>, <span class=\"artist\">\n",
       " <a class=\"subtitle\" href=\"http://www.metrolyrics.com/anne-dudley-lyrics.html\" onmousedown=\"ev('Top Songs','searcha:anne-dudley');\" title=\"Anne Dudley\">\n",
       " Anne Dudley\t</a>\n",
       " </span>, <span class=\"artist\">\n",
       " <a class=\"subtitle\" href=\"http://www.metrolyrics.com/sojah-lyrics.html\" onmousedown=\"ev('Top Songs','searcha:sojah');\" title=\"Sojah\">\n",
       " Sojah\t</a>\n",
       " </span>, <span class=\"artist\">\n",
       " <a class=\"subtitle\" href=\"http://www.metrolyrics.com/bomba-estereo-lyrics.html\" onmousedown=\"ev('Top Songs','searcha:bomba-estereo');\" title=\"Bomba Estéreo\">\n",
       " Bomba Estéreo\t</a>\n",
       " </span>, <span class=\"artist\">\n",
       " <a class=\"subtitle\" href=\"http://www.metrolyrics.com/petit-biscuit-lyrics.html\" onmousedown=\"ev('Top Songs','searcha:petit-biscuit');\" title=\"Petit Biscuit\">\n",
       " Petit Biscuit\t</a>\n",
       " </span>, <span class=\"artist\">\n",
       " <a class=\"subtitle\" href=\"http://www.metrolyrics.com/sofia-reyes-lyrics.html\" onmousedown=\"ev('Top Songs','searcha:sofia-reyes');\" title=\"Sofia Reyes\">\n",
       " Sofia Reyes\t</a>\n",
       " </span>, <span class=\"artist\">\n",
       " <a class=\"subtitle\" href=\"http://www.metrolyrics.com/sham-rock-lyrics.html\" onmousedown=\"ev('Top Songs','searcha:sham-rock');\" title=\"Sham Rock\">\n",
       " Sham Rock\t</a>\n",
       " </span>, <span class=\"artist\">\n",
       " <a class=\"subtitle\" href=\"http://www.metrolyrics.com/timmy-trumpet-lyrics.html\" onmousedown=\"ev('Top Songs','searcha:timmy-trumpet');\" title=\"Timmy Trumpet\">\n",
       " Timmy Trumpet\t</a>\n",
       " </span>, <span class=\"artist\">\n",
       " <a class=\"subtitle\" href=\"http://www.metrolyrics.com/paul-hardcastle-lyrics.html\" onmousedown=\"ev('Top Songs','searcha:paul-hardcastle');\" title=\"Paul Hardcastle\">\n",
       " Paul Hardcastle\t</a>\n",
       " </span>, <span class=\"artist\">\n",
       " <a class=\"subtitle\" href=\"http://www.metrolyrics.com/game-of-thrones-lyrics.html\" onmousedown=\"ev('Top Songs','searcha:game-of-thrones');\" title=\"Game of Thrones\">\n",
       " Game of Thrones\t</a>\n",
       " </span>, <span class=\"artist\">\n",
       " <a class=\"subtitle\" href=\"http://www.metrolyrics.com/avicii-lyrics.html\" onmousedown=\"ev('Top Songs','searcha:avicii');\" title=\"Avicii\">\n",
       " Avicii\t</a>\n",
       " </span>, <span class=\"artist\">\n",
       " <a class=\"subtitle\" href=\"http://www.metrolyrics.com/ultra-nate-lyrics.html\" onmousedown=\"ev('Top Songs','searcha:ultra-nate');\" title=\"Ultra Nate\">\n",
       " Ultra Nate\t</a>\n",
       " </span>, <span class=\"artist\">\n",
       " <a class=\"subtitle\" href=\"http://www.metrolyrics.com/daniel-pemberton-lyrics.html\" onmousedown=\"ev('Top Songs','searcha:daniel-pemberton');\" title=\"Daniel Pemberton\">\n",
       " Daniel Pemberton\t</a>\n",
       " </span>, <span class=\"artist\">\n",
       " <a class=\"subtitle\" href=\"http://www.metrolyrics.com/bomba-estereo-lyrics.html\" onmousedown=\"ev('Top Songs','searcha:bomba-estereo');\" title=\"Bomba Estéreo\">\n",
       " Bomba Estéreo\t</a>\n",
       " </span>, <span class=\"artist\">\n",
       " <a class=\"subtitle\" href=\"http://www.metrolyrics.com/mr-vegas-lyrics.html\" onmousedown=\"ev('Top Songs','searcha:mr-vegas');\" title=\"Mr. Vegas\">\n",
       " Mr. Vegas\t</a>\n",
       " </span>, <span class=\"artist\">\n",
       " <a class=\"subtitle\" href=\"http://www.metrolyrics.com/shanguy-lyrics.html\" onmousedown=\"ev('Top Songs','searcha:shanguy');\" title=\"Shanguy\">\n",
       " Shanguy\t</a>\n",
       " </span>, <span class=\"artist\">\n",
       " <a class=\"subtitle\" href=\"http://www.metrolyrics.com/moby-lyrics.html\" onmousedown=\"ev('Top Songs','searcha:moby');\" title=\"Moby\">\n",
       " Moby\t</a>\n",
       " </span>, <span class=\"artist\">\n",
       " <a class=\"subtitle\" href=\"http://www.metrolyrics.com/zedd-lyrics.html\" onmousedown=\"ev('Top Songs','searcha:zedd');\" title=\"Zedd\">\n",
       " Zedd\t</a>\n",
       " </span>, <span class=\"artist\">\n",
       " <a class=\"subtitle\" href=\"http://www.metrolyrics.com/sidney-samson-lyrics.html\" onmousedown=\"ev('Top Songs','searcha:sidney-samson');\" title=\"Sidney Samson\">\n",
       " Sidney Samson\t</a>\n",
       " </span>, <span class=\"artist\">\n",
       " <a class=\"subtitle\" href=\"http://www.metrolyrics.com/christine-and-the-queens-lyrics.html\" onmousedown=\"ev('Top Songs','searcha:christine-and-the-queens');\" title=\"Christine and the Queens\">\n",
       " Christine and the Queens\t</a>\n",
       " </span>, <span class=\"artist\">\n",
       " <a class=\"subtitle\" href=\"http://www.metrolyrics.com/clean-bandit-lyrics.html\" onmousedown=\"ev('Top Songs','searcha:clean-bandit');\" title=\"Clean Bandit\">\n",
       " Clean Bandit\t</a>\n",
       " </span>, <span class=\"artist\">\n",
       " <a class=\"subtitle\" href=\"http://www.metrolyrics.com/swedish-house-mafia-lyrics.html\" onmousedown=\"ev('Top Songs','searcha:swedish-house-mafia');\" title=\"Swedish House Mafia\">\n",
       " Swedish House Mafia\t</a>\n",
       " </span>, <span class=\"artist\">\n",
       " <a class=\"subtitle\" href=\"http://www.metrolyrics.com/issey-lyrics.html\" onmousedown=\"ev('Top Songs','searcha:issey');\" title=\"Issey\">\n",
       " Issey\t</a>\n",
       " </span>, <span class=\"artist\">\n",
       " <a class=\"subtitle\" href=\"http://www.metrolyrics.com/avicii-lyrics.html\" onmousedown=\"ev('Top Songs','searcha:avicii');\" title=\"Avicii\">\n",
       " Avicii\t</a>\n",
       " </span>, <span class=\"artist\">\n",
       " <a class=\"subtitle\" href=\"http://www.metrolyrics.com/years-years-lyrics.html\" onmousedown=\"ev('Top Songs','searcha:years-years');\" title=\"Years &amp; Years\">\n",
       " Years &amp; Years\t</a>\n",
       " </span>, <span class=\"artist\">\n",
       " <a class=\"subtitle\" href=\"http://www.metrolyrics.com/daft-punk-lyrics.html\" onmousedown=\"ev('Top Songs','searcha:daft-punk');\" title=\"Daft Punk\">\n",
       " Daft Punk\t</a>\n",
       " </span>, <span class=\"artist\">\n",
       " <a class=\"subtitle\" href=\"http://www.metrolyrics.com/david-guetta-lyrics.html\" onmousedown=\"ev('Top Songs','searcha:david-guetta');\" title=\"David Guetta\">\n",
       " David Guetta\t</a>\n",
       " </span>, <span class=\"artist\">\n",
       " <a class=\"subtitle\" href=\"http://www.metrolyrics.com/kygo-lyrics.html\" onmousedown=\"ev('Top Songs','searcha:kygo');\" title=\"Kygo\">\n",
       " Kygo\t</a>\n",
       " </span>, <span class=\"artist\">\n",
       " <a class=\"subtitle\" href=\"http://www.metrolyrics.com/calvin-harris-lyrics.html\" onmousedown=\"ev('Top Songs','searcha:calvin-harris');\" title=\"Calvin Harris\">\n",
       " Calvin Harris\t</a>\n",
       " </span>, <span class=\"artist\">\n",
       " <a class=\"subtitle\" href=\"http://www.metrolyrics.com/seinabo-sey-lyrics.html\" onmousedown=\"ev('Top Songs','searcha:seinabo-sey');\" title=\"Seinabo Sey\">\n",
       " Seinabo Sey\t</a>\n",
       " </span>, <span class=\"artist\">\n",
       " <a class=\"subtitle\" href=\"http://www.metrolyrics.com/sham-rock-lyrics.html\" onmousedown=\"ev('Top Songs','searcha:sham-rock');\" title=\"Sham Rock\">\n",
       " Sham Rock\t</a>\n",
       " </span>, <span class=\"artist\">\n",
       " <a class=\"subtitle\" href=\"http://www.metrolyrics.com/stealth-lyrics.html\" onmousedown=\"ev('Top Songs','searcha:stealth');\" title=\"Stealth\">\n",
       " Stealth\t</a>\n",
       " </span>, <span class=\"artist\">\n",
       " <a class=\"subtitle\" href=\"http://www.metrolyrics.com/erdem-kinay-lyrics.html\" onmousedown=\"ev('Top Songs','searcha:erdem-kinay');\" title=\"Erdem KÄ±nay\">\n",
       " Erdem KÄ±nay\t</a>\n",
       " </span>, <span class=\"artist\">\n",
       " <a class=\"subtitle\" href=\"http://www.metrolyrics.com/clean-bandit-lyrics.html\" onmousedown=\"ev('Top Songs','searcha:clean-bandit');\" title=\"Clean Bandit\">\n",
       " Clean Bandit\t</a>\n",
       " </span>, <span class=\"artist\">\n",
       " <a class=\"subtitle\" href=\"http://www.metrolyrics.com/fragma-lyrics.html\" onmousedown=\"ev('Top Songs','searcha:fragma');\" title=\"Fragma\">\n",
       " Fragma\t</a>\n",
       " </span>, <span class=\"artist\">\n",
       " <a class=\"subtitle\" href=\"http://www.metrolyrics.com/jamie-harrison-lyrics.html\" onmousedown=\"ev('Top Songs','searcha:jamie-harrison');\" title=\"Jamie Harrison\">\n",
       " Jamie Harrison\t</a>\n",
       " </span>, <span class=\"artist\">\n",
       " <a class=\"subtitle\" href=\"http://www.metrolyrics.com/ini-kamoze-lyrics.html\" onmousedown=\"ev('Top Songs','searcha:ini-kamoze');\" title=\"Ini Kamoze\">\n",
       " Ini Kamoze\t</a>\n",
       " </span>, <span class=\"artist\">\n",
       " <a class=\"subtitle\" href=\"http://www.metrolyrics.com/avicii-lyrics.html\" onmousedown=\"ev('Top Songs','searcha:avicii');\" title=\"Avicii\">\n",
       " Avicii\t</a>\n",
       " </span>, <span class=\"artist\">\n",
       " <a class=\"subtitle\" href=\"http://www.metrolyrics.com/alan-walker-lyrics.html\" onmousedown=\"ev('Top Songs','searcha:alan-walker');\" title=\"Alan Walker\">\n",
       " Alan Walker\t</a>\n",
       " </span>, <span class=\"artist\">\n",
       " <a class=\"subtitle\" href=\"http://www.metrolyrics.com/avicii-lyrics.html\" onmousedown=\"ev('Top Songs','searcha:avicii');\" title=\"Avicii\">\n",
       " Avicii\t</a>\n",
       " </span>, <span class=\"artist\">\n",
       " <a class=\"subtitle\" href=\"http://www.metrolyrics.com/captain-jack-lyrics.html\" onmousedown=\"ev('Top Songs','searcha:captain-jack');\" title=\"Captain Jack\">\n",
       " Captain Jack\t</a>\n",
       " </span>, <span class=\"artist\">\n",
       " <a class=\"subtitle\" href=\"http://www.metrolyrics.com/lolita-jolie-lyrics.html\" onmousedown=\"ev('Top Songs','searcha:lolita-jolie');\" title=\"Lolita Jolie\">\n",
       " Lolita Jolie\t</a>\n",
       " </span>, <span class=\"artist\">\n",
       " <a class=\"subtitle\" href=\"http://www.metrolyrics.com/snap-lyrics.html\" onmousedown=\"ev('Top Songs','searcha:snap');\" title=\"Snap\">\n",
       " Snap\t</a>\n",
       " </span>, <span class=\"artist\">\n",
       " <a class=\"subtitle\" href=\"http://www.metrolyrics.com/cameo-lyrics.html\" onmousedown=\"ev('Top Songs','searcha:cameo');\" title=\"Cameo\">\n",
       " Cameo\t</a>\n",
       " </span>, <span class=\"artist\">\n",
       " <a class=\"subtitle\" href=\"http://www.metrolyrics.com/faithless-lyrics.html\" onmousedown=\"ev('Top Songs','searcha:faithless');\" title=\"Faithless\">\n",
       " Faithless\t</a>\n",
       " </span>, <span class=\"artist\">\n",
       " <a class=\"subtitle\" href=\"http://www.metrolyrics.com/coyote-kisses-lyrics.html\" onmousedown=\"ev('Top Songs','searcha:coyote-kisses');\" title=\"Coyote Kisses\">\n",
       " Coyote Kisses\t</a>\n",
       " </span>, <span class=\"artist\">\n",
       " <a class=\"subtitle\" href=\"http://www.metrolyrics.com/dawin-lyrics.html\" onmousedown=\"ev('Top Songs','searcha:dawin');\" title=\"Dawin\">\n",
       " Dawin\t</a>\n",
       " </span>, <span class=\"artist\">\n",
       " <a class=\"subtitle\" href=\"http://www.metrolyrics.com/zedd-lyrics.html\" onmousedown=\"ev('Top Songs','searcha:zedd');\" title=\"Zedd\">\n",
       " Zedd\t</a>\n",
       " </span>, <span class=\"artist\">\n",
       " <a class=\"subtitle\" href=\"http://www.metrolyrics.com/merk-kremont-lyrics.html\" onmousedown=\"ev('Top Songs','searcha:merk-kremont');\" title=\"Merk &amp; Kremont\">\n",
       " Merk &amp; Kremont\t</a>\n",
       " </span>, <span class=\"artist\">\n",
       " <a class=\"subtitle\" href=\"http://www.metrolyrics.com/daft-punk-lyrics.html\" onmousedown=\"ev('Top Songs','searcha:daft-punk');\" title=\"Daft Punk\">\n",
       " Daft Punk\t</a>\n",
       " </span>, <span class=\"artist\">\n",
       " <a class=\"subtitle\" href=\"http://www.metrolyrics.com/anthony-gonzalez-lyrics.html\" onmousedown=\"ev('Top Songs','searcha:anthony-gonzalez');\" title=\"Anthony Gonzalez\">\n",
       " Anthony Gonzalez\t</a>\n",
       " </span>]"
      ]
     },
     "execution_count": 524,
     "metadata": {},
     "output_type": "execute_result"
    }
   ],
   "source": [
    "results"
   ]
  },
  {
   "cell_type": "code",
   "execution_count": null,
   "metadata": {
    "collapsed": true
   },
   "outputs": [],
   "source": []
  },
  {
   "cell_type": "code",
   "execution_count": null,
   "metadata": {
    "collapsed": true
   },
   "outputs": [],
   "source": []
  },
  {
   "cell_type": "code",
   "execution_count": null,
   "metadata": {
    "collapsed": true
   },
   "outputs": [],
   "source": []
  },
  {
   "cell_type": "code",
   "execution_count": null,
   "metadata": {
    "collapsed": true
   },
   "outputs": [],
   "source": []
  },
  {
   "cell_type": "code",
   "execution_count": null,
   "metadata": {
    "collapsed": true
   },
   "outputs": [],
   "source": []
  },
  {
   "cell_type": "code",
   "execution_count": null,
   "metadata": {
    "collapsed": true
   },
   "outputs": [],
   "source": []
  },
  {
   "cell_type": "code",
   "execution_count": 494,
   "metadata": {
    "collapsed": true
   },
   "outputs": [],
   "source": []
  },
  {
   "cell_type": "code",
   "execution_count": 333,
   "metadata": {
    "collapsed": true
   },
   "outputs": [],
   "source": [
    "vectorizer = TfidfVectorizer(stop_words = 'english')\n",
    "\n",
    "x = vectorizer.fit_transform(songs[0])\n"
   ]
  },
  {
   "cell_type": "code",
   "execution_count": 339,
   "metadata": {},
   "outputs": [
    {
     "data": {
      "text/plain": [
       "<50x2904 sparse matrix of type '<class 'numpy.float64'>'\n",
       "\twith 4918 stored elements in Compressed Sparse Row format>"
      ]
     },
     "execution_count": 339,
     "metadata": {},
     "output_type": "execute_result"
    }
   ],
   "source": [
    "x"
   ]
  },
  {
   "cell_type": "code",
   "execution_count": 343,
   "metadata": {},
   "outputs": [
    {
     "data": {
      "text/plain": [
       "KMeans(algorithm='auto', copy_x=True, init='k-means++', max_iter=300,\n",
       "    n_clusters=5, n_init=10, n_jobs=1, precompute_distances='auto',\n",
       "    random_state=None, tol=0.0001, verbose=0)"
      ]
     },
     "execution_count": 343,
     "metadata": {},
     "output_type": "execute_result"
    }
   ],
   "source": [
    "model = KMeans(5)\n",
    "model.fit(x)"
   ]
  },
  {
   "cell_type": "code",
   "execution_count": 344,
   "metadata": {
    "collapsed": true
   },
   "outputs": [],
   "source": [
    "labels = model.predict(x)"
   ]
  },
  {
   "cell_type": "code",
   "execution_count": 345,
   "metadata": {},
   "outputs": [
    {
     "data": {
      "text/plain": [
       "array([3, 2, 0, 1, 4, 1, 3, 0, 4, 4, 3, 1, 1, 2, 0, 1, 0, 2, 2, 3, 2, 3,\n",
       "       0, 1, 0, 3, 4, 0, 2, 2, 3, 1, 1, 4, 4, 2, 1, 3, 2, 0, 0, 4, 1, 0,\n",
       "       1, 1, 1, 1, 2, 3], dtype=int32)"
      ]
     },
     "execution_count": 345,
     "metadata": {},
     "output_type": "execute_result"
    }
   ],
   "source": [
    "labels"
   ]
  },
  {
   "cell_type": "code",
   "execution_count": 346,
   "metadata": {
    "collapsed": true
   },
   "outputs": [],
   "source": [
    "centroids = model.cluster_centers_"
   ]
  },
  {
   "cell_type": "code",
   "execution_count": 353,
   "metadata": {
    "collapsed": true
   },
   "outputs": [],
   "source": [
    "names = vectorizer.get_feature_names()"
   ]
  },
  {
   "cell_type": "code",
   "execution_count": 365,
   "metadata": {
    "collapsed": true
   },
   "outputs": [],
   "source": [
    "clusters =centroids.argsort()[:,-1:-10:-1]"
   ]
  },
  {
   "cell_type": "code",
   "execution_count": 372,
   "metadata": {
    "collapsed": true
   },
   "outputs": [],
   "source": [
    "k = []\n",
    "for i in clusters:\n",
    "    for j in i:\n",
    "        k.append(names[j])\n",
    "    "
   ]
  },
  {
   "cell_type": "code",
   "execution_count": 377,
   "metadata": {},
   "outputs": [
    {
     "data": {
      "text/plain": [
       "(5, 2904)"
      ]
     },
     "execution_count": 377,
     "metadata": {},
     "output_type": "execute_result"
    }
   ],
   "source": [
    "centroids.shape"
   ]
  },
  {
   "cell_type": "code",
   "execution_count": 383,
   "metadata": {},
   "outputs": [
    {
     "data": {
      "text/plain": [
       "array([['make', 'aah', 'magic', 'like', 'pray', 'gonna', 'la', 'secrets',\n",
       "        'kiss'],\n",
       "       ['ll', 'eh', 'let', 'na', 'uh', 'want', 'just', 'baby', 'really'],\n",
       "       ['oh', 'lover', 'solo', 'come', 'wanna', 'right', 'glass', 'like',\n",
       "        'whoa'],\n",
       "       ['love', 'tie', 'chick', 'da', 'ain', 'sexy', 'bitch', 'like',\n",
       "        'se'],\n",
       "       ['exception', 'naturally', 'shark', 'comes', 'thought', 'need',\n",
       "        'better', 'maybe', 'know']], dtype='<U9')"
      ]
     },
     "execution_count": 383,
     "metadata": {},
     "output_type": "execute_result"
    }
   ],
   "source": [
    "np.array(k).reshape(clusters.shape)"
   ]
  },
  {
   "cell_type": "code",
   "execution_count": 384,
   "metadata": {},
   "outputs": [
    {
     "data": {
      "text/plain": [
       "array([[1474,   13, 1471, 1392, 1908, 1031, 1328, 2127, 1309],\n",
       "       [1417,  775, 1368, 1646, 2644, 2725, 1295,  143, 1976],\n",
       "       [1720, 1452, 2279,  510, 2723, 2025, 1013, 1392, 2781],\n",
       "       [1446, 2534,  451,  595,   48, 2150,  259, 1392, 2123],\n",
       "       [ 825, 1654, 2161,  511, 2521, 1665,  241, 1498, 1318]])"
      ]
     },
     "execution_count": 384,
     "metadata": {},
     "output_type": "execute_result"
    }
   ],
   "source": [
    "clusters"
   ]
  },
  {
   "cell_type": "code",
   "execution_count": 386,
   "metadata": {},
   "outputs": [
    {
     "data": {
      "text/plain": [
       "(50, 1)"
      ]
     },
     "execution_count": 386,
     "metadata": {},
     "output_type": "execute_result"
    }
   ],
   "source": [
    "songs.shape"
   ]
  },
  {
   "cell_type": "code",
   "execution_count": 388,
   "metadata": {
    "collapsed": true
   },
   "outputs": [],
   "source": [
    "from scipy.cluster import *\n",
    "from scipy.spatial import *\n",
    "dis_array = distance.pdist(x.todense(), metric = 'cosine')"
   ]
  },
  {
   "cell_type": "code",
   "execution_count": 389,
   "metadata": {},
   "outputs": [
    {
     "data": {
      "text/plain": [
       "array([0.90031832, 0.94711109, 0.89468531, ..., 0.96774934, 0.97678369,\n",
       "       0.78447747])"
      ]
     },
     "execution_count": 389,
     "metadata": {},
     "output_type": "execute_result"
    }
   ],
   "source": [
    "dis_array"
   ]
  },
  {
   "cell_type": "code",
   "execution_count": 390,
   "metadata": {
    "collapsed": true
   },
   "outputs": [],
   "source": [
    "square_dis_array = distance.squareform(dis_array)"
   ]
  },
  {
   "cell_type": "code",
   "execution_count": 392,
   "metadata": {},
   "outputs": [
    {
     "name": "stderr",
     "output_type": "stream",
     "text": [
      "/Users/Haebichan/anaconda3/lib/python3.6/site-packages/ipykernel_launcher.py:1: ClusterWarning: scipy.cluster: The symmetric non-negative hollow observation matrix looks suspiciously like an uncondensed distance matrix\n",
      "  \"\"\"Entry point for launching an IPython kernel.\n"
     ]
    }
   ],
   "source": [
    "linkage = hierarchy.linkage(square_dis_array)"
   ]
  },
  {
   "cell_type": "code",
   "execution_count": 397,
   "metadata": {},
   "outputs": [
    {
     "data": {
      "image/png": "[encoded data removed]",
      "text/plain": [
       "<matplotlib.figure.Figure at 0x1a138e1eb8>"
      ]
     },
     "metadata": {
      "image/png": {
       "height": 625,
       "width": 1434
      }
     },
     "output_type": "display_data"
    }
   ],
   "source": [
    "figure = figsize(25,10)\n",
    "\n",
    "dendro = hierarchy.dendrogram(linkage, labels = names)\n",
    "\n"
   ]
  },
  {
   "cell_type": "code",
   "execution_count": 394,
   "metadata": {},
   "outputs": [
    {
     "ename": "NameError",
     "evalue": "name 'dendro' is not defined",
     "output_type": "error",
     "traceback": [
      "\u001b[0;31m---------------------------------------------------------------------------\u001b[0m",
      "\u001b[0;31mNameError\u001b[0m                                 Traceback (most recent call last)",
      "\u001b[0;32m<ipython-input-394-025dcd88cde8>\u001b[0m in \u001b[0;36m<module>\u001b[0;34m()\u001b[0m\n\u001b[1;32m      1\u001b[0m \u001b[0mnames_vectorized\u001b[0m \u001b[0;34m=\u001b[0m \u001b[0mvectorizer\u001b[0m\u001b[0;34m.\u001b[0m\u001b[0mget_feature_names\u001b[0m\u001b[0;34m(\u001b[0m\u001b[0;34m)\u001b[0m\u001b[0;34m\u001b[0m\u001b[0m\n\u001b[0;32m----> 2\u001b[0;31m \u001b[0ml\u001b[0m \u001b[0;34m=\u001b[0m \u001b[0mlist\u001b[0m\u001b[0;34m(\u001b[0m\u001b[0mdendro\u001b[0m\u001b[0;34m.\u001b[0m\u001b[0mvalues\u001b[0m\u001b[0;34m(\u001b[0m\u001b[0;34m)\u001b[0m\u001b[0;34m)\u001b[0m\u001b[0;34m[\u001b[0m\u001b[0;36m3\u001b[0m\u001b[0;34m]\u001b[0m\u001b[0;34m\u001b[0m\u001b[0m\n\u001b[0m",
      "\u001b[0;31mNameError\u001b[0m: name 'dendro' is not defined"
     ]
    }
   ],
   "source": [
    "names_vectorized = vectorizer.get_feature_names()\n",
    "l = list(dendro.values())[3]"
   ]
  },
  {
   "cell_type": "code",
   "execution_count": null,
   "metadata": {
    "collapsed": true
   },
   "outputs": [],
   "source": [
    "names = []\n",
    "for i in l:\n",
    "    names.append(names_vectorized[i])"
   ]
  },
  {
   "cell_type": "code",
   "execution_count": null,
   "metadata": {
    "collapsed": true
   },
   "outputs": [],
   "source": []
  },
  {
   "cell_type": "code",
   "execution_count": 425,
   "metadata": {},
   "outputs": [
    {
     "ename": "ConnectionError",
     "evalue": "HTTPSConnectionPool(host='www.letssingit.com', port=443): Max retries exceeded with url: /songs/popular/1 (Caused by NewConnectionError('<urllib3.connection.VerifiedHTTPSConnection object at 0x1a1c1bf6d8>: Failed to establish a new connection: [Errno 60] Operation timed out',))",
     "output_type": "error",
     "traceback": [
      "\u001b[0;31m---------------------------------------------------------------------------\u001b[0m",
      "\u001b[0;31mTimeoutError\u001b[0m                              Traceback (most recent call last)",
      "\u001b[0;32m~/anaconda3/lib/python3.6/site-packages/urllib3/connection.py\u001b[0m in \u001b[0;36m_new_conn\u001b[0;34m(self)\u001b[0m\n\u001b[1;32m    140\u001b[0m             conn = connection.create_connection(\n\u001b[0;32m--> 141\u001b[0;31m                 (self.host, self.port), self.timeout, **extra_kw)\n\u001b[0m\u001b[1;32m    142\u001b[0m \u001b[0;34m\u001b[0m\u001b[0m\n",
      "\u001b[0;32m~/anaconda3/lib/python3.6/site-packages/urllib3/util/connection.py\u001b[0m in \u001b[0;36mcreate_connection\u001b[0;34m(address, timeout, source_address, socket_options)\u001b[0m\n\u001b[1;32m     82\u001b[0m     \u001b[0;32mif\u001b[0m \u001b[0merr\u001b[0m \u001b[0;32mis\u001b[0m \u001b[0;32mnot\u001b[0m \u001b[0;32mNone\u001b[0m\u001b[0;34m:\u001b[0m\u001b[0;34m\u001b[0m\u001b[0m\n\u001b[0;32m---> 83\u001b[0;31m         \u001b[0;32mraise\u001b[0m \u001b[0merr\u001b[0m\u001b[0;34m\u001b[0m\u001b[0m\n\u001b[0m\u001b[1;32m     84\u001b[0m \u001b[0;34m\u001b[0m\u001b[0m\n",
      "\u001b[0;32m~/anaconda3/lib/python3.6/site-packages/urllib3/util/connection.py\u001b[0m in \u001b[0;36mcreate_connection\u001b[0;34m(address, timeout, source_address, socket_options)\u001b[0m\n\u001b[1;32m     72\u001b[0m                 \u001b[0msock\u001b[0m\u001b[0;34m.\u001b[0m\u001b[0mbind\u001b[0m\u001b[0;34m(\u001b[0m\u001b[0msource_address\u001b[0m\u001b[0;34m)\u001b[0m\u001b[0;34m\u001b[0m\u001b[0m\n\u001b[0;32m---> 73\u001b[0;31m             \u001b[0msock\u001b[0m\u001b[0;34m.\u001b[0m\u001b[0mconnect\u001b[0m\u001b[0;34m(\u001b[0m\u001b[0msa\u001b[0m\u001b[0;34m)\u001b[0m\u001b[0;34m\u001b[0m\u001b[0m\n\u001b[0m\u001b[1;32m     74\u001b[0m             \u001b[0;32mreturn\u001b[0m \u001b[0msock\u001b[0m\u001b[0;34m\u001b[0m\u001b[0m\n",
      "\u001b[0;31mTimeoutError\u001b[0m: [Errno 60] Operation timed out",
      "\nDuring handling of the above exception, another exception occurred:\n",
      "\u001b[0;31mNewConnectionError\u001b[0m                        Traceback (most recent call last)",
      "\u001b[0;32m~/anaconda3/lib/python3.6/site-packages/urllib3/connectionpool.py\u001b[0m in \u001b[0;36murlopen\u001b[0;34m(self, method, url, body, headers, retries, redirect, assert_same_host, timeout, pool_timeout, release_conn, chunked, body_pos, **response_kw)\u001b[0m\n\u001b[1;32m    600\u001b[0m                                                   \u001b[0mbody\u001b[0m\u001b[0;34m=\u001b[0m\u001b[0mbody\u001b[0m\u001b[0;34m,\u001b[0m \u001b[0mheaders\u001b[0m\u001b[0;34m=\u001b[0m\u001b[0mheaders\u001b[0m\u001b[0;34m,\u001b[0m\u001b[0;34m\u001b[0m\u001b[0m\n\u001b[0;32m--> 601\u001b[0;31m                                                   chunked=chunked)\n\u001b[0m\u001b[1;32m    602\u001b[0m \u001b[0;34m\u001b[0m\u001b[0m\n",
      "\u001b[0;32m~/anaconda3/lib/python3.6/site-packages/urllib3/connectionpool.py\u001b[0m in \u001b[0;36m_make_request\u001b[0;34m(self, conn, method, url, timeout, chunked, **httplib_request_kw)\u001b[0m\n\u001b[1;32m    345\u001b[0m         \u001b[0;32mtry\u001b[0m\u001b[0;34m:\u001b[0m\u001b[0;34m\u001b[0m\u001b[0m\n\u001b[0;32m--> 346\u001b[0;31m             \u001b[0mself\u001b[0m\u001b[0;34m.\u001b[0m\u001b[0m_validate_conn\u001b[0m\u001b[0;34m(\u001b[0m\u001b[0mconn\u001b[0m\u001b[0;34m)\u001b[0m\u001b[0;34m\u001b[0m\u001b[0m\n\u001b[0m\u001b[1;32m    347\u001b[0m         \u001b[0;32mexcept\u001b[0m \u001b[0;34m(\u001b[0m\u001b[0mSocketTimeout\u001b[0m\u001b[0;34m,\u001b[0m \u001b[0mBaseSSLError\u001b[0m\u001b[0;34m)\u001b[0m \u001b[0;32mas\u001b[0m \u001b[0me\u001b[0m\u001b[0;34m:\u001b[0m\u001b[0;34m\u001b[0m\u001b[0m\n",
      "\u001b[0;32m~/anaconda3/lib/python3.6/site-packages/urllib3/connectionpool.py\u001b[0m in \u001b[0;36m_validate_conn\u001b[0;34m(self, conn)\u001b[0m\n\u001b[1;32m    849\u001b[0m         \u001b[0;32mif\u001b[0m \u001b[0;32mnot\u001b[0m \u001b[0mgetattr\u001b[0m\u001b[0;34m(\u001b[0m\u001b[0mconn\u001b[0m\u001b[0;34m,\u001b[0m \u001b[0;34m'sock'\u001b[0m\u001b[0;34m,\u001b[0m \u001b[0;32mNone\u001b[0m\u001b[0;34m)\u001b[0m\u001b[0;34m:\u001b[0m  \u001b[0;31m# AppEngine might not have  `.sock`\u001b[0m\u001b[0;34m\u001b[0m\u001b[0m\n\u001b[0;32m--> 850\u001b[0;31m             \u001b[0mconn\u001b[0m\u001b[0;34m.\u001b[0m\u001b[0mconnect\u001b[0m\u001b[0;34m(\u001b[0m\u001b[0;34m)\u001b[0m\u001b[0;34m\u001b[0m\u001b[0m\n\u001b[0m\u001b[1;32m    851\u001b[0m \u001b[0;34m\u001b[0m\u001b[0m\n",
      "\u001b[0;32m~/anaconda3/lib/python3.6/site-packages/urllib3/connection.py\u001b[0m in \u001b[0;36mconnect\u001b[0;34m(self)\u001b[0m\n\u001b[1;32m    283\u001b[0m         \u001b[0;31m# Add certificate verification\u001b[0m\u001b[0;34m\u001b[0m\u001b[0;34m\u001b[0m\u001b[0m\n\u001b[0;32m--> 284\u001b[0;31m         \u001b[0mconn\u001b[0m \u001b[0;34m=\u001b[0m \u001b[0mself\u001b[0m\u001b[0;34m.\u001b[0m\u001b[0m_new_conn\u001b[0m\u001b[0;34m(\u001b[0m\u001b[0;34m)\u001b[0m\u001b[0;34m\u001b[0m\u001b[0m\n\u001b[0m\u001b[1;32m    285\u001b[0m \u001b[0;34m\u001b[0m\u001b[0m\n",
      "\u001b[0;32m~/anaconda3/lib/python3.6/site-packages/urllib3/connection.py\u001b[0m in \u001b[0;36m_new_conn\u001b[0;34m(self)\u001b[0m\n\u001b[1;32m    149\u001b[0m             raise NewConnectionError(\n\u001b[0;32m--> 150\u001b[0;31m                 self, \"Failed to establish a new connection: %s\" % e)\n\u001b[0m\u001b[1;32m    151\u001b[0m \u001b[0;34m\u001b[0m\u001b[0m\n",
      "\u001b[0;31mNewConnectionError\u001b[0m: <urllib3.connection.VerifiedHTTPSConnection object at 0x1a1c1bf6d8>: Failed to establish a new connection: [Errno 60] Operation timed out",
      "\nDuring handling of the above exception, another exception occurred:\n",
      "\u001b[0;31mMaxRetryError\u001b[0m                             Traceback (most recent call last)",
      "\u001b[0;32m~/anaconda3/lib/python3.6/site-packages/requests/adapters.py\u001b[0m in \u001b[0;36msend\u001b[0;34m(self, request, stream, timeout, verify, cert, proxies)\u001b[0m\n\u001b[1;32m    439\u001b[0m                     \u001b[0mretries\u001b[0m\u001b[0;34m=\u001b[0m\u001b[0mself\u001b[0m\u001b[0;34m.\u001b[0m\u001b[0mmax_retries\u001b[0m\u001b[0;34m,\u001b[0m\u001b[0;34m\u001b[0m\u001b[0m\n\u001b[0;32m--> 440\u001b[0;31m                     \u001b[0mtimeout\u001b[0m\u001b[0;34m=\u001b[0m\u001b[0mtimeout\u001b[0m\u001b[0;34m\u001b[0m\u001b[0m\n\u001b[0m\u001b[1;32m    441\u001b[0m                 )\n",
      "\u001b[0;32m~/anaconda3/lib/python3.6/site-packages/urllib3/connectionpool.py\u001b[0m in \u001b[0;36murlopen\u001b[0;34m(self, method, url, body, headers, retries, redirect, assert_same_host, timeout, pool_timeout, release_conn, chunked, body_pos, **response_kw)\u001b[0m\n\u001b[1;32m    638\u001b[0m             retries = retries.increment(method, url, error=e, _pool=self,\n\u001b[0;32m--> 639\u001b[0;31m                                         _stacktrace=sys.exc_info()[2])\n\u001b[0m\u001b[1;32m    640\u001b[0m             \u001b[0mretries\u001b[0m\u001b[0;34m.\u001b[0m\u001b[0msleep\u001b[0m\u001b[0;34m(\u001b[0m\u001b[0;34m)\u001b[0m\u001b[0;34m\u001b[0m\u001b[0m\n",
      "\u001b[0;32m~/anaconda3/lib/python3.6/site-packages/urllib3/util/retry.py\u001b[0m in \u001b[0;36mincrement\u001b[0;34m(self, method, url, response, error, _pool, _stacktrace)\u001b[0m\n\u001b[1;32m    387\u001b[0m         \u001b[0;32mif\u001b[0m \u001b[0mnew_retry\u001b[0m\u001b[0;34m.\u001b[0m\u001b[0mis_exhausted\u001b[0m\u001b[0;34m(\u001b[0m\u001b[0;34m)\u001b[0m\u001b[0;34m:\u001b[0m\u001b[0;34m\u001b[0m\u001b[0m\n\u001b[0;32m--> 388\u001b[0;31m             \u001b[0;32mraise\u001b[0m \u001b[0mMaxRetryError\u001b[0m\u001b[0;34m(\u001b[0m\u001b[0m_pool\u001b[0m\u001b[0;34m,\u001b[0m \u001b[0murl\u001b[0m\u001b[0;34m,\u001b[0m \u001b[0merror\u001b[0m \u001b[0;32mor\u001b[0m \u001b[0mResponseError\u001b[0m\u001b[0;34m(\u001b[0m\u001b[0mcause\u001b[0m\u001b[0;34m)\u001b[0m\u001b[0;34m)\u001b[0m\u001b[0;34m\u001b[0m\u001b[0m\n\u001b[0m\u001b[1;32m    389\u001b[0m \u001b[0;34m\u001b[0m\u001b[0m\n",
      "\u001b[0;31mMaxRetryError\u001b[0m: HTTPSConnectionPool(host='www.letssingit.com', port=443): Max retries exceeded with url: /songs/popular/1 (Caused by NewConnectionError('<urllib3.connection.VerifiedHTTPSConnection object at 0x1a1c1bf6d8>: Failed to establish a new connection: [Errno 60] Operation timed out',))",
      "\nDuring handling of the above exception, another exception occurred:\n",
      "\u001b[0;31mConnectionError\u001b[0m                           Traceback (most recent call last)",
      "\u001b[0;32m<ipython-input-425-ac0c415b5488>\u001b[0m in \u001b[0;36m<module>\u001b[0;34m()\u001b[0m\n\u001b[1;32m      2\u001b[0m \u001b[0;34m\u001b[0m\u001b[0m\n\u001b[1;32m      3\u001b[0m \u001b[0;32mfor\u001b[0m \u001b[0mi\u001b[0m \u001b[0;32min\u001b[0m \u001b[0mrange\u001b[0m\u001b[0;34m(\u001b[0m\u001b[0;36m1\u001b[0m\u001b[0;34m,\u001b[0m\u001b[0;36m5\u001b[0m\u001b[0;34m)\u001b[0m\u001b[0;34m:\u001b[0m\u001b[0;34m\u001b[0m\u001b[0m\n\u001b[0;32m----> 4\u001b[0;31m     \u001b[0mrequest\u001b[0m \u001b[0;34m=\u001b[0m \u001b[0mrequests\u001b[0m\u001b[0;34m.\u001b[0m\u001b[0mget\u001b[0m\u001b[0;34m(\u001b[0m\u001b[0;34m'https://www.letssingit.com/songs/popular/'\u001b[0m \u001b[0;34m+\u001b[0m \u001b[0mstr\u001b[0m\u001b[0;34m(\u001b[0m\u001b[0mi\u001b[0m\u001b[0;34m)\u001b[0m\u001b[0;34m)\u001b[0m\u001b[0;34m\u001b[0m\u001b[0m\n\u001b[0m\u001b[1;32m      5\u001b[0m     \u001b[0msoup\u001b[0m \u001b[0;34m=\u001b[0m \u001b[0mBeautifulSoup\u001b[0m\u001b[0;34m(\u001b[0m\u001b[0mrequest\u001b[0m\u001b[0;34m.\u001b[0m\u001b[0mtext\u001b[0m\u001b[0;34m,\u001b[0m \u001b[0;34m'html.parser'\u001b[0m\u001b[0;34m)\u001b[0m\u001b[0;34m\u001b[0m\u001b[0m\n\u001b[1;32m      6\u001b[0m     \u001b[0;32mfor\u001b[0m \u001b[0mi\u001b[0m \u001b[0;32min\u001b[0m \u001b[0msoup\u001b[0m\u001b[0;34m.\u001b[0m\u001b[0mfind_all\u001b[0m\u001b[0;34m(\u001b[0m\u001b[0;34m'a'\u001b[0m\u001b[0;34m,\u001b[0m \u001b[0mhref\u001b[0m \u001b[0;34m=\u001b[0m \u001b[0;32mTrue\u001b[0m\u001b[0;34m)\u001b[0m\u001b[0;34m:\u001b[0m\u001b[0;34m\u001b[0m\u001b[0m\n",
      "\u001b[0;32m~/anaconda3/lib/python3.6/site-packages/requests/api.py\u001b[0m in \u001b[0;36mget\u001b[0;34m(url, params, **kwargs)\u001b[0m\n\u001b[1;32m     70\u001b[0m \u001b[0;34m\u001b[0m\u001b[0m\n\u001b[1;32m     71\u001b[0m     \u001b[0mkwargs\u001b[0m\u001b[0;34m.\u001b[0m\u001b[0msetdefault\u001b[0m\u001b[0;34m(\u001b[0m\u001b[0;34m'allow_redirects'\u001b[0m\u001b[0;34m,\u001b[0m \u001b[0;32mTrue\u001b[0m\u001b[0;34m)\u001b[0m\u001b[0;34m\u001b[0m\u001b[0m\n\u001b[0;32m---> 72\u001b[0;31m     \u001b[0;32mreturn\u001b[0m \u001b[0mrequest\u001b[0m\u001b[0;34m(\u001b[0m\u001b[0;34m'get'\u001b[0m\u001b[0;34m,\u001b[0m \u001b[0murl\u001b[0m\u001b[0;34m,\u001b[0m \u001b[0mparams\u001b[0m\u001b[0;34m=\u001b[0m\u001b[0mparams\u001b[0m\u001b[0;34m,\u001b[0m \u001b[0;34m**\u001b[0m\u001b[0mkwargs\u001b[0m\u001b[0;34m)\u001b[0m\u001b[0;34m\u001b[0m\u001b[0m\n\u001b[0m\u001b[1;32m     73\u001b[0m \u001b[0;34m\u001b[0m\u001b[0m\n\u001b[1;32m     74\u001b[0m \u001b[0;34m\u001b[0m\u001b[0m\n",
      "\u001b[0;32m~/anaconda3/lib/python3.6/site-packages/requests/api.py\u001b[0m in \u001b[0;36mrequest\u001b[0;34m(method, url, **kwargs)\u001b[0m\n\u001b[1;32m     56\u001b[0m     \u001b[0;31m# cases, and look like a memory leak in others.\u001b[0m\u001b[0;34m\u001b[0m\u001b[0;34m\u001b[0m\u001b[0m\n\u001b[1;32m     57\u001b[0m     \u001b[0;32mwith\u001b[0m \u001b[0msessions\u001b[0m\u001b[0;34m.\u001b[0m\u001b[0mSession\u001b[0m\u001b[0;34m(\u001b[0m\u001b[0;34m)\u001b[0m \u001b[0;32mas\u001b[0m \u001b[0msession\u001b[0m\u001b[0;34m:\u001b[0m\u001b[0;34m\u001b[0m\u001b[0m\n\u001b[0;32m---> 58\u001b[0;31m         \u001b[0;32mreturn\u001b[0m \u001b[0msession\u001b[0m\u001b[0;34m.\u001b[0m\u001b[0mrequest\u001b[0m\u001b[0;34m(\u001b[0m\u001b[0mmethod\u001b[0m\u001b[0;34m=\u001b[0m\u001b[0mmethod\u001b[0m\u001b[0;34m,\u001b[0m \u001b[0murl\u001b[0m\u001b[0;34m=\u001b[0m\u001b[0murl\u001b[0m\u001b[0;34m,\u001b[0m \u001b[0;34m**\u001b[0m\u001b[0mkwargs\u001b[0m\u001b[0;34m)\u001b[0m\u001b[0;34m\u001b[0m\u001b[0m\n\u001b[0m\u001b[1;32m     59\u001b[0m \u001b[0;34m\u001b[0m\u001b[0m\n\u001b[1;32m     60\u001b[0m \u001b[0;34m\u001b[0m\u001b[0m\n",
      "\u001b[0;32m~/anaconda3/lib/python3.6/site-packages/requests/sessions.py\u001b[0m in \u001b[0;36mrequest\u001b[0;34m(self, method, url, params, data, headers, cookies, files, auth, timeout, allow_redirects, proxies, hooks, stream, verify, cert, json)\u001b[0m\n\u001b[1;32m    506\u001b[0m         }\n\u001b[1;32m    507\u001b[0m         \u001b[0msend_kwargs\u001b[0m\u001b[0;34m.\u001b[0m\u001b[0mupdate\u001b[0m\u001b[0;34m(\u001b[0m\u001b[0msettings\u001b[0m\u001b[0;34m)\u001b[0m\u001b[0;34m\u001b[0m\u001b[0m\n\u001b[0;32m--> 508\u001b[0;31m         \u001b[0mresp\u001b[0m \u001b[0;34m=\u001b[0m \u001b[0mself\u001b[0m\u001b[0;34m.\u001b[0m\u001b[0msend\u001b[0m\u001b[0;34m(\u001b[0m\u001b[0mprep\u001b[0m\u001b[0;34m,\u001b[0m \u001b[0;34m**\u001b[0m\u001b[0msend_kwargs\u001b[0m\u001b[0;34m)\u001b[0m\u001b[0;34m\u001b[0m\u001b[0m\n\u001b[0m\u001b[1;32m    509\u001b[0m \u001b[0;34m\u001b[0m\u001b[0m\n\u001b[1;32m    510\u001b[0m         \u001b[0;32mreturn\u001b[0m \u001b[0mresp\u001b[0m\u001b[0;34m\u001b[0m\u001b[0m\n",
      "\u001b[0;32m~/anaconda3/lib/python3.6/site-packages/requests/sessions.py\u001b[0m in \u001b[0;36msend\u001b[0;34m(self, request, **kwargs)\u001b[0m\n\u001b[1;32m    616\u001b[0m \u001b[0;34m\u001b[0m\u001b[0m\n\u001b[1;32m    617\u001b[0m         \u001b[0;31m# Send the request\u001b[0m\u001b[0;34m\u001b[0m\u001b[0;34m\u001b[0m\u001b[0m\n\u001b[0;32m--> 618\u001b[0;31m         \u001b[0mr\u001b[0m \u001b[0;34m=\u001b[0m \u001b[0madapter\u001b[0m\u001b[0;34m.\u001b[0m\u001b[0msend\u001b[0m\u001b[0;34m(\u001b[0m\u001b[0mrequest\u001b[0m\u001b[0;34m,\u001b[0m \u001b[0;34m**\u001b[0m\u001b[0mkwargs\u001b[0m\u001b[0;34m)\u001b[0m\u001b[0;34m\u001b[0m\u001b[0m\n\u001b[0m\u001b[1;32m    619\u001b[0m \u001b[0;34m\u001b[0m\u001b[0m\n\u001b[1;32m    620\u001b[0m         \u001b[0;31m# Total elapsed time of the request (approximately)\u001b[0m\u001b[0;34m\u001b[0m\u001b[0;34m\u001b[0m\u001b[0m\n",
      "\u001b[0;32m~/anaconda3/lib/python3.6/site-packages/requests/adapters.py\u001b[0m in \u001b[0;36msend\u001b[0;34m(self, request, stream, timeout, verify, cert, proxies)\u001b[0m\n\u001b[1;32m    506\u001b[0m                 \u001b[0;32mraise\u001b[0m \u001b[0mSSLError\u001b[0m\u001b[0;34m(\u001b[0m\u001b[0me\u001b[0m\u001b[0;34m,\u001b[0m \u001b[0mrequest\u001b[0m\u001b[0;34m=\u001b[0m\u001b[0mrequest\u001b[0m\u001b[0;34m)\u001b[0m\u001b[0;34m\u001b[0m\u001b[0m\n\u001b[1;32m    507\u001b[0m \u001b[0;34m\u001b[0m\u001b[0m\n\u001b[0;32m--> 508\u001b[0;31m             \u001b[0;32mraise\u001b[0m \u001b[0mConnectionError\u001b[0m\u001b[0;34m(\u001b[0m\u001b[0me\u001b[0m\u001b[0;34m,\u001b[0m \u001b[0mrequest\u001b[0m\u001b[0;34m=\u001b[0m\u001b[0mrequest\u001b[0m\u001b[0;34m)\u001b[0m\u001b[0;34m\u001b[0m\u001b[0m\n\u001b[0m\u001b[1;32m    509\u001b[0m \u001b[0;34m\u001b[0m\u001b[0m\n\u001b[1;32m    510\u001b[0m         \u001b[0;32mexcept\u001b[0m \u001b[0mClosedPoolError\u001b[0m \u001b[0;32mas\u001b[0m \u001b[0me\u001b[0m\u001b[0;34m:\u001b[0m\u001b[0;34m\u001b[0m\u001b[0m\n",
      "\u001b[0;31mConnectionError\u001b[0m: HTTPSConnectionPool(host='www.letssingit.com', port=443): Max retries exceeded with url: /songs/popular/1 (Caused by NewConnectionError('<urllib3.connection.VerifiedHTTPSConnection object at 0x1a1c1bf6d8>: Failed to establish a new connection: [Errno 60] Operation timed out',))"
     ]
    }
   ],
   "source": [
    "all_links = []\n",
    "\n",
    "for i in range(1,5):\n",
    "    request = requests.get('https://www.letssingit.com/songs/popular/' + str(i))\n",
    "    soup = BeautifulSoup(request.text, 'html.parser')\n",
    "    for i in soup.find_all('a', href = True):\n",
    "        all_links.append(i['href'])\n",
    "\n"
   ]
  },
  {
   "cell_type": "code",
   "execution_count": null,
   "metadata": {
    "collapsed": true
   },
   "outputs": [],
   "source": []
  },
  {
   "cell_type": "code",
   "execution_count": null,
   "metadata": {
    "collapsed": true
   },
   "outputs": [],
   "source": []
  },
  {
   "cell_type": "code",
   "execution_count": null,
   "metadata": {
    "collapsed": true
   },
   "outputs": [],
   "source": []
  },
  {
   "cell_type": "code",
   "execution_count": null,
   "metadata": {
    "collapsed": true
   },
   "outputs": [],
   "source": []
  },
  {
   "cell_type": "code",
   "execution_count": null,
   "metadata": {
    "collapsed": true
   },
   "outputs": [],
   "source": []
  },
  {
   "cell_type": "code",
   "execution_count": null,
   "metadata": {
    "collapsed": true
   },
   "outputs": [],
   "source": []
  },
  {
   "cell_type": "code",
   "execution_count": null,
   "metadata": {
    "collapsed": true
   },
   "outputs": [],
   "source": []
  },
  {
   "cell_type": "code",
   "execution_count": null,
   "metadata": {
    "collapsed": true
   },
   "outputs": [],
   "source": []
  },
  {
   "cell_type": "code",
   "execution_count": null,
   "metadata": {
    "collapsed": true
   },
   "outputs": [],
   "source": []
  },
  {
   "cell_type": "code",
   "execution_count": null,
   "metadata": {
    "collapsed": true
   },
   "outputs": [],
   "source": []
  }
 ],
 "metadata": {
  "kernelspec": {
   "display_name": "Python 3",
   "language": "python",
   "name": "python3"
  },
  "language_info": {
   "codemirror_mode": {
    "name": "ipython",
    "version": 3
   },
   "file_extension": ".py",
   "mimetype": "text/x-python",
   "name": "python",
   "nbconvert_exporter": "python",
   "pygments_lexer": "ipython3",
   "version": "3.6.3"
  }
 },
 "nbformat": 4,
 "nbformat_minor": 2
}
